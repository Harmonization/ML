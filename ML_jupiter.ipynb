{
 "cells": [
  {
   "cell_type": "code",
   "execution_count": 1,
   "metadata": {},
   "outputs": [],
   "source": [
    "import numpy as np              # Массивы (матрицы, векторы, линейная алгебра)\n",
    "import matplotlib.pyplot as plt # Научная графика\n",
    "%matplotlib inline \n",
    "    # Говорим jupyter'у, чтобы весь графический вывод был в браузере, а не в отдельном окне\n",
    "import pandas as pd             # Таблицы и временные ряды (dataframe, series)\n",
    "import seaborn as sns           # Еще больше красивой графики для визуализации данных\n",
    "import sklearn                  # Алгоритмы машинного обучения\n",
    "#import random"
   ]
  },
  {
   "cell_type": "markdown",
   "metadata": {},
   "source": [
    "## Описание задачи"
   ]
  },
  {
   "cell_type": "code",
   "execution_count": 2,
   "metadata": {},
   "outputs": [],
   "source": [
    "data_raw = pd.read_csv('test.csv')"
   ]
  },
  {
   "cell_type": "code",
   "execution_count": 3,
   "metadata": {},
   "outputs": [
    {
     "data": {
      "text/plain": [
       "(361934, 12)"
      ]
     },
     "execution_count": 3,
     "metadata": {},
     "output_type": "execute_result"
    }
   ],
   "source": [
    "data_raw.shape"
   ]
  },
  {
   "cell_type": "markdown",
   "metadata": {},
   "source": [
    "Этот набор данных содержит извлеченные атрибуты с веб-сайтов, которые могут быть использованы для классификации веб-страниц как вредоносных или доброкачественных.  \n",
    "  \n",
    "  \n",
    "- Unnamed:0 - порядковый номер \n",
    "- url - url-адрес сайта\n",
    "- url_len - длина адреса сайта\n",
    "- ip_add - ip адрес сайта\n",
    "- geo_loc - его местоположение (геолокация)\n",
    "- tld - домен верхнего уровня \n",
    "- who_is - завершенность\n",
    "- https - поддержка https\n",
    "- js_len - длина кода Java Script\n",
    "- js_obf_len - длина обфусцированного кода \n",
    "- content - наполнение текстом \n",
    "- label - доброкачественный сайт или нет"
   ]
  },
  {
   "cell_type": "code",
   "execution_count": 5,
   "metadata": {
    "scrolled": false
   },
   "outputs": [
    {
     "data": {
      "text/html": [
       "<div>\n",
       "<style scoped>\n",
       "    .dataframe tbody tr th:only-of-type {\n",
       "        vertical-align: middle;\n",
       "    }\n",
       "\n",
       "    .dataframe tbody tr th {\n",
       "        vertical-align: top;\n",
       "    }\n",
       "\n",
       "    .dataframe thead th {\n",
       "        text-align: right;\n",
       "    }\n",
       "</style>\n",
       "<table border=\"1\" class=\"dataframe\">\n",
       "  <thead>\n",
       "    <tr style=\"text-align: right;\">\n",
       "      <th></th>\n",
       "      <th>Unnamed: 0</th>\n",
       "      <th>url</th>\n",
       "      <th>url_len</th>\n",
       "      <th>ip_add</th>\n",
       "      <th>geo_loc</th>\n",
       "      <th>tld</th>\n",
       "      <th>who_is</th>\n",
       "      <th>https</th>\n",
       "      <th>js_len</th>\n",
       "      <th>js_obf_len</th>\n",
       "      <th>content</th>\n",
       "      <th>label</th>\n",
       "    </tr>\n",
       "  </thead>\n",
       "  <tbody>\n",
       "    <tr>\n",
       "      <th>0</th>\n",
       "      <td>0</td>\n",
       "      <td>http://www.dutchthewiz.com/freeware/</td>\n",
       "      <td>36</td>\n",
       "      <td>175.67.214.68</td>\n",
       "      <td>China</td>\n",
       "      <td>com</td>\n",
       "      <td>complete</td>\n",
       "      <td>yes</td>\n",
       "      <td>38.5</td>\n",
       "      <td>0.0</td>\n",
       "      <td>Decay suggest in 1315.. Current constitution, ...</td>\n",
       "      <td>good</td>\n",
       "    </tr>\n",
       "    <tr>\n",
       "      <th>1</th>\n",
       "      <td>1</td>\n",
       "      <td>http://www.collectiblejewels.com</td>\n",
       "      <td>32</td>\n",
       "      <td>188.120.171.121</td>\n",
       "      <td>Sweden</td>\n",
       "      <td>com</td>\n",
       "      <td>incomplete</td>\n",
       "      <td>yes</td>\n",
       "      <td>187.0</td>\n",
       "      <td>0.0</td>\n",
       "      <td>breast addict nudger whash ky darkie catholics...</td>\n",
       "      <td>good</td>\n",
       "    </tr>\n",
       "    <tr>\n",
       "      <th>2</th>\n",
       "      <td>2</td>\n",
       "      <td>http://www.deadlinedata.com</td>\n",
       "      <td>27</td>\n",
       "      <td>193.51.170.1</td>\n",
       "      <td>France</td>\n",
       "      <td>com</td>\n",
       "      <td>complete</td>\n",
       "      <td>yes</td>\n",
       "      <td>31.0</td>\n",
       "      <td>0.0</td>\n",
       "      <td>Nato's military stoic philosophy says to accep...</td>\n",
       "      <td>good</td>\n",
       "    </tr>\n",
       "    <tr>\n",
       "      <th>3</th>\n",
       "      <td>3</td>\n",
       "      <td>http://www.mil.fi/maavoimat/kalustoesittely/00...</td>\n",
       "      <td>56</td>\n",
       "      <td>13.237.35.44</td>\n",
       "      <td>Australia</td>\n",
       "      <td>fi</td>\n",
       "      <td>complete</td>\n",
       "      <td>yes</td>\n",
       "      <td>152.0</td>\n",
       "      <td>0.0</td>\n",
       "      <td>Night being newton. according to the formation...</td>\n",
       "      <td>good</td>\n",
       "    </tr>\n",
       "    <tr>\n",
       "      <th>4</th>\n",
       "      <td>4</td>\n",
       "      <td>http://www.avclub.com/content/node/24539</td>\n",
       "      <td>40</td>\n",
       "      <td>220.193.62.89</td>\n",
       "      <td>China</td>\n",
       "      <td>com</td>\n",
       "      <td>complete</td>\n",
       "      <td>yes</td>\n",
       "      <td>150.0</td>\n",
       "      <td>0.0</td>\n",
       "      <td>34 per two children. if we exercise simple pra...</td>\n",
       "      <td>good</td>\n",
       "    </tr>\n",
       "  </tbody>\n",
       "</table>\n",
       "</div>"
      ],
      "text/plain": [
       "   Unnamed: 0                                                url  url_len  \\\n",
       "0           0               http://www.dutchthewiz.com/freeware/       36   \n",
       "1           1                   http://www.collectiblejewels.com       32   \n",
       "2           2                        http://www.deadlinedata.com       27   \n",
       "3           3  http://www.mil.fi/maavoimat/kalustoesittely/00...       56   \n",
       "4           4           http://www.avclub.com/content/node/24539       40   \n",
       "\n",
       "            ip_add    geo_loc  tld      who_is https  js_len  js_obf_len  \\\n",
       "0    175.67.214.68      China  com    complete   yes    38.5         0.0   \n",
       "1  188.120.171.121     Sweden  com  incomplete   yes   187.0         0.0   \n",
       "2     193.51.170.1     France  com    complete   yes    31.0         0.0   \n",
       "3     13.237.35.44  Australia   fi    complete   yes   152.0         0.0   \n",
       "4    220.193.62.89      China  com    complete   yes   150.0         0.0   \n",
       "\n",
       "                                             content label  \n",
       "0  Decay suggest in 1315.. Current constitution, ...  good  \n",
       "1  breast addict nudger whash ky darkie catholics...  good  \n",
       "2  Nato's military stoic philosophy says to accep...  good  \n",
       "3  Night being newton. according to the formation...  good  \n",
       "4  34 per two children. if we exercise simple pra...  good  "
      ]
     },
     "execution_count": 5,
     "metadata": {},
     "output_type": "execute_result"
    }
   ],
   "source": [
    "data_raw.head()"
   ]
  },
  {
   "cell_type": "code",
   "execution_count": 4,
   "metadata": {
    "scrolled": true
   },
   "outputs": [
    {
     "data": {
      "text/html": [
       "<div>\n",
       "<style scoped>\n",
       "    .dataframe tbody tr th:only-of-type {\n",
       "        vertical-align: middle;\n",
       "    }\n",
       "\n",
       "    .dataframe tbody tr th {\n",
       "        vertical-align: top;\n",
       "    }\n",
       "\n",
       "    .dataframe thead th {\n",
       "        text-align: right;\n",
       "    }\n",
       "</style>\n",
       "<table border=\"1\" class=\"dataframe\">\n",
       "  <thead>\n",
       "    <tr style=\"text-align: right;\">\n",
       "      <th></th>\n",
       "      <th>Unnamed: 0</th>\n",
       "      <th>url</th>\n",
       "      <th>url_len</th>\n",
       "      <th>ip_add</th>\n",
       "      <th>geo_loc</th>\n",
       "      <th>tld</th>\n",
       "      <th>who_is</th>\n",
       "      <th>https</th>\n",
       "      <th>js_len</th>\n",
       "      <th>js_obf_len</th>\n",
       "      <th>content</th>\n",
       "      <th>label</th>\n",
       "    </tr>\n",
       "  </thead>\n",
       "  <tbody>\n",
       "    <tr>\n",
       "      <th>361929</th>\n",
       "      <td>361929</td>\n",
       "      <td>http://www.allnetporn.com/asians/t17_43/netver...</td>\n",
       "      <td>55</td>\n",
       "      <td>200.200.169.58</td>\n",
       "      <td>Brazil</td>\n",
       "      <td>com</td>\n",
       "      <td>incomplete</td>\n",
       "      <td>no</td>\n",
       "      <td>407.7</td>\n",
       "      <td>289.467</td>\n",
       "      <td>roundeye poverty welfare lovejuice shitter pec...</td>\n",
       "      <td>bad</td>\n",
       "    </tr>\n",
       "    <tr>\n",
       "      <th>361930</th>\n",
       "      <td>361930</td>\n",
       "      <td>http://members.shaw.ca/brianholden</td>\n",
       "      <td>34</td>\n",
       "      <td>217.114.245.202</td>\n",
       "      <td>Russia</td>\n",
       "      <td>ca</td>\n",
       "      <td>complete</td>\n",
       "      <td>yes</td>\n",
       "      <td>163.5</td>\n",
       "      <td>0.000</td>\n",
       "      <td>Be mixed southeast alaska.. Corals, and 1936 s...</td>\n",
       "      <td>good</td>\n",
       "    </tr>\n",
       "    <tr>\n",
       "      <th>361931</th>\n",
       "      <td>361931</td>\n",
       "      <td>http://members.tripod.com/sjfloats/</td>\n",
       "      <td>35</td>\n",
       "      <td>191.49.186.181</td>\n",
       "      <td>Brazil</td>\n",
       "      <td>com</td>\n",
       "      <td>incomplete</td>\n",
       "      <td>yes</td>\n",
       "      <td>32.0</td>\n",
       "      <td>0.000</td>\n",
       "      <td>For 32 guadix, spain, as well as china and ind...</td>\n",
       "      <td>good</td>\n",
       "    </tr>\n",
       "    <tr>\n",
       "      <th>361932</th>\n",
       "      <td>361932</td>\n",
       "      <td>http://www.holyokemachine.com/</td>\n",
       "      <td>30</td>\n",
       "      <td>202.100.138.248</td>\n",
       "      <td>China</td>\n",
       "      <td>com</td>\n",
       "      <td>complete</td>\n",
       "      <td>yes</td>\n",
       "      <td>0.0</td>\n",
       "      <td>0.000</td>\n",
       "      <td>Common arrangement involves determining what p...</td>\n",
       "      <td>good</td>\n",
       "    </tr>\n",
       "    <tr>\n",
       "      <th>361933</th>\n",
       "      <td>361933</td>\n",
       "      <td>http://organicgardens.suite101.com</td>\n",
       "      <td>34</td>\n",
       "      <td>134.82.70.193</td>\n",
       "      <td>United States</td>\n",
       "      <td>com</td>\n",
       "      <td>complete</td>\n",
       "      <td>yes</td>\n",
       "      <td>142.5</td>\n",
       "      <td>0.000</td>\n",
       "      <td>Lies death profession. additionally, lawyers a...</td>\n",
       "      <td>good</td>\n",
       "    </tr>\n",
       "  </tbody>\n",
       "</table>\n",
       "</div>"
      ],
      "text/plain": [
       "        Unnamed: 0                                                url  \\\n",
       "361929      361929  http://www.allnetporn.com/asians/t17_43/netver...   \n",
       "361930      361930                 http://members.shaw.ca/brianholden   \n",
       "361931      361931                http://members.tripod.com/sjfloats/   \n",
       "361932      361932                     http://www.holyokemachine.com/   \n",
       "361933      361933                 http://organicgardens.suite101.com   \n",
       "\n",
       "        url_len           ip_add        geo_loc  tld      who_is https  \\\n",
       "361929       55   200.200.169.58         Brazil  com  incomplete    no   \n",
       "361930       34  217.114.245.202         Russia   ca    complete   yes   \n",
       "361931       35   191.49.186.181         Brazil  com  incomplete   yes   \n",
       "361932       30  202.100.138.248          China  com    complete   yes   \n",
       "361933       34    134.82.70.193  United States  com    complete   yes   \n",
       "\n",
       "        js_len  js_obf_len                                            content  \\\n",
       "361929   407.7     289.467  roundeye poverty welfare lovejuice shitter pec...   \n",
       "361930   163.5       0.000  Be mixed southeast alaska.. Corals, and 1936 s...   \n",
       "361931    32.0       0.000  For 32 guadix, spain, as well as china and ind...   \n",
       "361932     0.0       0.000  Common arrangement involves determining what p...   \n",
       "361933   142.5       0.000  Lies death profession. additionally, lawyers a...   \n",
       "\n",
       "       label  \n",
       "361929   bad  \n",
       "361930  good  \n",
       "361931  good  \n",
       "361932  good  \n",
       "361933  good  "
      ]
     },
     "execution_count": 4,
     "metadata": {},
     "output_type": "execute_result"
    }
   ],
   "source": [
    "data_raw.tail()"
   ]
  },
  {
   "cell_type": "code",
   "execution_count": 5,
   "metadata": {},
   "outputs": [
    {
     "data": {
      "text/plain": [
       "Index(['Unnamed: 0', 'url', 'url_len', 'ip_add', 'geo_loc', 'tld', 'who_is',\n",
       "       'https', 'js_len', 'js_obf_len', 'content', 'label'],\n",
       "      dtype='object')"
      ]
     },
     "execution_count": 5,
     "metadata": {},
     "output_type": "execute_result"
    }
   ],
   "source": [
    "data_raw.columns"
   ]
  },
  {
   "cell_type": "code",
   "execution_count": 6,
   "metadata": {
    "scrolled": true
   },
   "outputs": [
    {
     "data": {
      "text/plain": [
       "RangeIndex(start=0, stop=361934, step=1)"
      ]
     },
     "execution_count": 6,
     "metadata": {},
     "output_type": "execute_result"
    }
   ],
   "source": [
    "data_raw.index"
   ]
  },
  {
   "cell_type": "markdown",
   "metadata": {},
   "source": [
    "## Очистка данных "
   ]
  },
  {
   "cell_type": "markdown",
   "metadata": {},
   "source": [
    "### 1. Отсутствующие данные"
   ]
  },
  {
   "cell_type": "code",
   "execution_count": 7,
   "metadata": {},
   "outputs": [
    {
     "name": "stdout",
     "output_type": "stream",
     "text": [
      "Unnamed: 0 - 0%\n",
      "url - 0%\n",
      "url_len - 0%\n",
      "ip_add - 0%\n",
      "geo_loc - 0%\n",
      "tld - 0%\n",
      "who_is - 0%\n",
      "https - 0%\n",
      "js_len - 0%\n",
      "js_obf_len - 0%\n",
      "content - 0%\n",
      "label - 0%\n"
     ]
    }
   ],
   "source": [
    "for col in data_raw.columns:\n",
    "    pct_missing = np.mean(data_raw[col].isnull())\n",
    "    print('{} - {}%'.format(col, round(pct_missing*100)))\n"
   ]
  },
  {
   "cell_type": "markdown",
   "metadata": {},
   "source": [
    "Пропущенных значений нет "
   ]
  },
  {
   "cell_type": "markdown",
   "metadata": {},
   "source": [
    "### 2. Несбалансированность классов"
   ]
  },
  {
   "cell_type": "code",
   "execution_count": 3,
   "metadata": {},
   "outputs": [],
   "source": [
    "data_good = data_raw.loc[data_raw.label == 'good', ] #хорошие сайты\n",
    "data_bad = data_raw.loc[data_raw.label == 'bad', ] #плохие сайты"
   ]
  },
  {
   "cell_type": "markdown",
   "metadata": {},
   "source": [
    "Как видно из гистограммы, плохих сайтов действительно намного меньше, чем хороших, т.е наблюдается несбалансированность классов: "
   ]
  },
  {
   "cell_type": "code",
   "execution_count": 9,
   "metadata": {
    "scrolled": true
   },
   "outputs": [
    {
     "data": {
      "image/png": "[encoded data removed]",
      "text/plain": [
       "<Figure size 432x288 with 1 Axes>"
      ]
     },
     "metadata": {
      "needs_background": "light"
     },
     "output_type": "display_data"
    }
   ],
   "source": [
    "plt.hist(data_raw['label'], bins=255, alpha=0.5, color='b')\n",
    "pass"
   ]
  },
  {
   "cell_type": "code",
   "execution_count": 10,
   "metadata": {},
   "outputs": [
    {
     "data": {
      "text/plain": [
       "(353872, 12)"
      ]
     },
     "execution_count": 10,
     "metadata": {},
     "output_type": "execute_result"
    }
   ],
   "source": [
    "data_good.shape #объекты, принадлежащие классу \"хороших\" сайтов"
   ]
  },
  {
   "cell_type": "code",
   "execution_count": 11,
   "metadata": {},
   "outputs": [
    {
     "data": {
      "text/plain": [
       "(8062, 12)"
      ]
     },
     "execution_count": 11,
     "metadata": {},
     "output_type": "execute_result"
    }
   ],
   "source": [
    "data_bad.shape #объекты, принадлежащие классу \"плохих\" сайтов"
   ]
  },
  {
   "cell_type": "markdown",
   "metadata": {},
   "source": [
    "В данный момент мы рассматриваем датасет с 350 000+ объектами. Для борьбы с несбалансированностью классов, откроем дополнительный датасет с 1 000 000+ объектами и извлечем из него объекты, принадлежащие классу \"плохих\" сайтов, и добавим в исходный датасет"
   ]
  },
  {
   "cell_type": "code",
   "execution_count": 4,
   "metadata": {},
   "outputs": [],
   "source": [
    "data_big = pd.read_csv('train.csv') #Открываем большой датасет"
   ]
  },
  {
   "cell_type": "code",
   "execution_count": 13,
   "metadata": {},
   "outputs": [
    {
     "data": {
      "text/plain": [
       "(1200000, 12)"
      ]
     },
     "execution_count": 13,
     "metadata": {},
     "output_type": "execute_result"
    }
   ],
   "source": [
    "data_big.shape # имеем 1 200 000 объектов"
   ]
  },
  {
   "cell_type": "code",
   "execution_count": 5,
   "metadata": {},
   "outputs": [],
   "source": [
    "data_big_bad = data_big.loc[data_big.label == 'bad', ] #извлекаем плохие сайты"
   ]
  },
  {
   "cell_type": "code",
   "execution_count": 15,
   "metadata": {},
   "outputs": [
    {
     "data": {
      "text/plain": [
       "(27253, 12)"
      ]
     },
     "execution_count": 15,
     "metadata": {},
     "output_type": "execute_result"
    }
   ],
   "source": [
    "data_big_bad.shape # имеем 27 000+ новых объектов"
   ]
  },
  {
   "cell_type": "code",
   "execution_count": 6,
   "metadata": {},
   "outputs": [],
   "source": [
    "data_bad = pd.concat([data_bad, data_big_bad], ignore_index=True) #складываем "
   ]
  },
  {
   "cell_type": "code",
   "execution_count": 7,
   "metadata": {},
   "outputs": [
    {
     "data": {
      "text/plain": [
       "(35315, 12)"
      ]
     },
     "execution_count": 7,
     "metadata": {},
     "output_type": "execute_result"
    }
   ],
   "source": [
    "data_bad.shape #имеем 35 000+ плохих сайтов - уже лучше, чем было"
   ]
  },
  {
   "cell_type": "markdown",
   "metadata": {},
   "source": [
    "Далее - уменьшим количество хороших сайтов до 40 000"
   ]
  },
  {
   "cell_type": "code",
   "execution_count": 8,
   "metadata": {},
   "outputs": [],
   "source": [
    "data_good = data_good.sample(40000) #Выбираем 40к хороших сайтов наугад"
   ]
  },
  {
   "cell_type": "code",
   "execution_count": 9,
   "metadata": {},
   "outputs": [
    {
     "data": {
      "text/plain": [
       "(75315, 12)"
      ]
     },
     "execution_count": 9,
     "metadata": {},
     "output_type": "execute_result"
    }
   ],
   "source": [
    "data = pd.concat([data_good, data_bad], ignore_index=True) #складываем хорошие сайты и все плохие сайты\n",
    "data.shape"
   ]
  },
  {
   "cell_type": "markdown",
   "metadata": {},
   "source": [
    "Как видно из гистограммы полученного датасета, количество объектов \"плохого\" класса значительно возросло: "
   ]
  },
  {
   "cell_type": "code",
   "execution_count": 10,
   "metadata": {},
   "outputs": [
    {
     "data": {
      "image/png": "[encoded data removed]",
      "text/plain": [
       "<Figure size 432x288 with 1 Axes>"
      ]
     },
     "metadata": {
      "needs_background": "light"
     },
     "output_type": "display_data"
    }
   ],
   "source": [
    "plt.hist(data['label'], bins=255, alpha=0.5, color='b')\n",
    "pass"
   ]
  },
  {
   "cell_type": "code",
   "execution_count": 11,
   "metadata": {},
   "outputs": [],
   "source": [
    "del data_big"
   ]
  },
  {
   "cell_type": "code",
   "execution_count": 12,
   "metadata": {},
   "outputs": [],
   "source": [
    "del data_big_bad"
   ]
  },
  {
   "cell_type": "code",
   "execution_count": 13,
   "metadata": {},
   "outputs": [],
   "source": [
    "del data_bad"
   ]
  },
  {
   "cell_type": "code",
   "execution_count": 14,
   "metadata": {},
   "outputs": [],
   "source": [
    "del data_good"
   ]
  },
  {
   "cell_type": "markdown",
   "metadata": {},
   "source": [
    "### 3. Нетипичные данные (выбросы)"
   ]
  },
  {
   "cell_type": "markdown",
   "metadata": {},
   "source": [
    "То, что для хороших сайтов может считаться выбросом, для плохих будет считаться нормой. Поэтому при удалении выбросов дисбаланс классов увеличивается, т.е убирая выбросы у всех данных сразу, мы можем потерять особенности плохих сайтов. Снова разделим данные на два класса: "
   ]
  },
  {
   "cell_type": "code",
   "execution_count": 15,
   "metadata": {},
   "outputs": [],
   "source": [
    "data_good = data.loc[data.label == 'good', ] #хорошие сайты\n",
    "data_bad = data.loc[data.label == 'bad', ] #плохие сайты"
   ]
  },
  {
   "cell_type": "code",
   "execution_count": 18,
   "metadata": {},
   "outputs": [
    {
     "data": {
      "text/plain": [
       "(40000, 12)"
      ]
     },
     "execution_count": 18,
     "metadata": {},
     "output_type": "execute_result"
    }
   ],
   "source": [
    "data_good.shape"
   ]
  },
  {
   "cell_type": "code",
   "execution_count": 19,
   "metadata": {},
   "outputs": [
    {
     "data": {
      "text/plain": [
       "(35315, 12)"
      ]
     },
     "execution_count": 19,
     "metadata": {},
     "output_type": "execute_result"
    }
   ],
   "source": [
    "data_bad.shape "
   ]
  },
  {
   "cell_type": "markdown",
   "metadata": {},
   "source": [
    "Сравним наличие выбросов в одном из признаков у хороших и плохих сайтов: "
   ]
  },
  {
   "cell_type": "code",
   "execution_count": 16,
   "metadata": {},
   "outputs": [
    {
     "data": {
      "text/plain": [
       "0.005      0.00000\n",
       "0.010      0.00000\n",
       "0.050      0.00000\n",
       "0.100      0.00000\n",
       "0.500      0.00000\n",
       "0.900    503.02620\n",
       "0.950    586.85310\n",
       "0.990    705.55644\n",
       "0.995    732.93831\n",
       "Name: js_obf_len, dtype: float64"
      ]
     },
     "execution_count": 16,
     "metadata": {},
     "output_type": "execute_result"
    },
    {
     "data": {
      "image/png": "[encoded data removed]",
      "text/plain": [
       "<Figure size 432x288 with 1 Axes>"
      ]
     },
     "metadata": {
      "needs_background": "light"
     },
     "output_type": "display_data"
    }
   ],
   "source": [
    "#Все сайты\n",
    "plt.hist(data['js_obf_len'], bins=255, alpha=0.5, color='b')\n",
    "data['js_obf_len'].quantile([0.005,.01,.05,.1,.5,.9,.95,.99,.995])"
   ]
  },
  {
   "cell_type": "code",
   "execution_count": 21,
   "metadata": {
    "scrolled": true
   },
   "outputs": [
    {
     "data": {
      "text/plain": [
       "0.005    0.0\n",
       "0.010    0.0\n",
       "0.050    0.0\n",
       "0.100    0.0\n",
       "0.500    0.0\n",
       "0.900    0.0\n",
       "0.950    0.0\n",
       "0.990    0.0\n",
       "0.995    0.0\n",
       "Name: js_obf_len, dtype: float64"
      ]
     },
     "execution_count": 21,
     "metadata": {},
     "output_type": "execute_result"
    },
    {
     "data": {
      "image/png": "[encoded data removed]",
      "text/plain": [
       "<Figure size 432x288 with 1 Axes>"
      ]
     },
     "metadata": {
      "needs_background": "light"
     },
     "output_type": "display_data"
    }
   ],
   "source": [
    "#Хорошие сайты\n",
    "plt.hist(data_good['js_obf_len'], bins=255, alpha=0.5, color='g')\n",
    "data_good['js_obf_len'].quantile([0.005,.01,.05,.1,.5,.9,.95,.99,.995])"
   ]
  },
  {
   "cell_type": "code",
   "execution_count": 22,
   "metadata": {},
   "outputs": [
    {
     "data": {
      "text/plain": [
       "0.005      0.00000\n",
       "0.010      0.00000\n",
       "0.050      0.00000\n",
       "0.100      0.00000\n",
       "0.500    362.23200\n",
       "0.900    593.43840\n",
       "0.950    652.45770\n",
       "0.990    734.30784\n",
       "0.995    756.22140\n",
       "Name: js_obf_len, dtype: float64"
      ]
     },
     "execution_count": 22,
     "metadata": {},
     "output_type": "execute_result"
    },
    {
     "data": {
      "image/png": "[encoded data removed]",
      "text/plain": [
       "<Figure size 432x288 with 1 Axes>"
      ]
     },
     "metadata": {
      "needs_background": "light"
     },
     "output_type": "display_data"
    }
   ],
   "source": [
    "#Плохие сайты\n",
    "plt.hist(data_bad['js_obf_len'], bins=255, alpha=0.5, color='r')\n",
    "data_bad['js_obf_len'].quantile([0.005,.01,.05,.1,.5,.9,.95,.99,.995])"
   ]
  },
  {
   "cell_type": "markdown",
   "metadata": {},
   "source": [
    "Как видно из гистограмм - то, что у общего набора данных является выбросом, является нормой (и отличительной чертой) лишь для плохих сайтов (в то время, как у хороших сайтов все значения данного признака на нуле). Поэтому, очищая общий набор данных от выбросов, мы потеряем много данных, содержащие плохие сайты. "
   ]
  },
  {
   "cell_type": "markdown",
   "metadata": {},
   "source": [
    "Чтобы этого избежать, будем убирать выбросы только у хороших сайтов"
   ]
  },
  {
   "cell_type": "code",
   "execution_count": 17,
   "metadata": {},
   "outputs": [
    {
     "data": {
      "text/plain": [
       "0.005    18.0\n",
       "0.010    19.0\n",
       "0.050    21.0\n",
       "0.100    23.0\n",
       "0.500    32.0\n",
       "0.900    54.0\n",
       "0.950    62.0\n",
       "0.990    84.0\n",
       "0.995    93.0\n",
       "Name: url_len, dtype: float64"
      ]
     },
     "execution_count": 17,
     "metadata": {},
     "output_type": "execute_result"
    },
    {
     "data": {
      "image/png": "[encoded data removed]",
      "text/plain": [
       "<Figure size 432x288 with 1 Axes>"
      ]
     },
     "metadata": {
      "needs_background": "light"
     },
     "output_type": "display_data"
    }
   ],
   "source": [
    "plt.hist(data_good['url_len'], bins=255, alpha=0.5, color='b')\n",
    "pass\n",
    "data_good['url_len'].quantile([0.005,.01,.05,.1,.5,.9,.95,.99,.995])"
   ]
  },
  {
   "cell_type": "code",
   "execution_count": 18,
   "metadata": {},
   "outputs": [
    {
     "data": {
      "text/plain": [
       "0.005      0.0\n",
       "0.010      0.0\n",
       "0.050     30.0\n",
       "0.100     39.0\n",
       "0.500    111.0\n",
       "0.900    182.5\n",
       "0.950    191.0\n",
       "0.990    198.0\n",
       "0.995    199.0\n",
       "Name: js_len, dtype: float64"
      ]
     },
     "execution_count": 18,
     "metadata": {},
     "output_type": "execute_result"
    },
    {
     "data": {
      "image/png": "[encoded data removed]",
      "text/plain": [
       "<Figure size 432x288 with 1 Axes>"
      ]
     },
     "metadata": {
      "needs_background": "light"
     },
     "output_type": "display_data"
    }
   ],
   "source": [
    "plt.hist(data_good['js_len'], bins=255, alpha=0.5, color='b')\n",
    "pass\n",
    "data_good['js_len'].quantile([0.005,.01,.05,.1,.5,.9,.95,.99,.995])"
   ]
  },
  {
   "cell_type": "markdown",
   "metadata": {},
   "source": [
    "Удаляем выбросы "
   ]
  },
  {
   "cell_type": "code",
   "execution_count": 19,
   "metadata": {},
   "outputs": [
    {
     "data": {
      "text/plain": [
       "(39558, 12)"
      ]
     },
     "execution_count": 19,
     "metadata": {},
     "output_type": "execute_result"
    }
   ],
   "source": [
    "rows_to_drop = data_good[\n",
    "    (data_good['url_len'] < data_good['url_len'].quantile(0.005)) | (data_good['url_len'] > data_good['url_len'].quantile(0.995))  | \n",
    "    (data_good['js_len'] < data_good['js_len'].quantile(0.005)) | (data_good['js_len'] > data_good['js_len'].quantile(0.995))].index\n",
    "data = data_good.drop(rows_to_drop)\n",
    "data.shape"
   ]
  },
  {
   "cell_type": "markdown",
   "metadata": {},
   "source": [
    "Проверим, что гистограммы стали чище"
   ]
  },
  {
   "cell_type": "code",
   "execution_count": 20,
   "metadata": {},
   "outputs": [
    {
     "data": {
      "image/png": "[encoded data removed]",
      "text/plain": [
       "<Figure size 432x288 with 1 Axes>"
      ]
     },
     "metadata": {
      "needs_background": "light"
     },
     "output_type": "display_data"
    }
   ],
   "source": [
    "plt.hist(data['url_len'], bins=255, alpha=0.5, color='b')\n",
    "pass"
   ]
  },
  {
   "cell_type": "code",
   "execution_count": 21,
   "metadata": {
    "scrolled": true
   },
   "outputs": [
    {
     "data": {
      "image/png": "[encoded data removed]",
      "text/plain": [
       "<Figure size 432x288 with 1 Axes>"
      ]
     },
     "metadata": {
      "needs_background": "light"
     },
     "output_type": "display_data"
    }
   ],
   "source": [
    "plt.hist(data['js_len'], bins=255, alpha=0.5, color='b')\n",
    "pass"
   ]
  },
  {
   "cell_type": "markdown",
   "metadata": {},
   "source": [
    "Складываем хорошие и плохие сайты: "
   ]
  },
  {
   "cell_type": "code",
   "execution_count": 22,
   "metadata": {},
   "outputs": [
    {
     "data": {
      "text/plain": [
       "(74873, 12)"
      ]
     },
     "execution_count": 22,
     "metadata": {},
     "output_type": "execute_result"
    }
   ],
   "source": [
    "data = pd.concat([data, data_bad], ignore_index=True) #складываем хорошие сайты и все плохие сайты\n",
    "data.shape"
   ]
  },
  {
   "cell_type": "markdown",
   "metadata": {},
   "source": [
    "### 4. Удаление неинформативных признаков"
   ]
  },
  {
   "cell_type": "code",
   "execution_count": 29,
   "metadata": {},
   "outputs": [
    {
     "data": {
      "text/html": [
       "<div>\n",
       "<style scoped>\n",
       "    .dataframe tbody tr th:only-of-type {\n",
       "        vertical-align: middle;\n",
       "    }\n",
       "\n",
       "    .dataframe tbody tr th {\n",
       "        vertical-align: top;\n",
       "    }\n",
       "\n",
       "    .dataframe thead th {\n",
       "        text-align: right;\n",
       "    }\n",
       "</style>\n",
       "<table border=\"1\" class=\"dataframe\">\n",
       "  <thead>\n",
       "    <tr style=\"text-align: right;\">\n",
       "      <th></th>\n",
       "      <th>Unnamed: 0</th>\n",
       "      <th>url</th>\n",
       "      <th>url_len</th>\n",
       "      <th>ip_add</th>\n",
       "      <th>geo_loc</th>\n",
       "      <th>tld</th>\n",
       "      <th>who_is</th>\n",
       "      <th>https</th>\n",
       "      <th>js_len</th>\n",
       "      <th>js_obf_len</th>\n",
       "      <th>content</th>\n",
       "      <th>label</th>\n",
       "    </tr>\n",
       "  </thead>\n",
       "  <tbody>\n",
       "    <tr>\n",
       "      <th>0</th>\n",
       "      <td>24864</td>\n",
       "      <td>http://www.goldspot.com.tw</td>\n",
       "      <td>26</td>\n",
       "      <td>119.199.102.72</td>\n",
       "      <td>South Korea</td>\n",
       "      <td>com.tw</td>\n",
       "      <td>complete</td>\n",
       "      <td>no</td>\n",
       "      <td>123.0</td>\n",
       "      <td>0.0</td>\n",
       "      <td>Denmark \\n functions. as. Overwater recreation...</td>\n",
       "      <td>good</td>\n",
       "    </tr>\n",
       "    <tr>\n",
       "      <th>1</th>\n",
       "      <td>317772</td>\n",
       "      <td>http://www.stbarts-burnley.org</td>\n",
       "      <td>30</td>\n",
       "      <td>71.83.1.249</td>\n",
       "      <td>United States</td>\n",
       "      <td>org</td>\n",
       "      <td>complete</td>\n",
       "      <td>yes</td>\n",
       "      <td>142.0</td>\n",
       "      <td>0.0</td>\n",
       "      <td>phungky vagina snigger's swalow jigger whitey ...</td>\n",
       "      <td>good</td>\n",
       "    </tr>\n",
       "    <tr>\n",
       "      <th>2</th>\n",
       "      <td>17590</td>\n",
       "      <td>http://a.nderson.net/smith86/</td>\n",
       "      <td>29</td>\n",
       "      <td>132.32.245.190</td>\n",
       "      <td>United States</td>\n",
       "      <td>net</td>\n",
       "      <td>complete</td>\n",
       "      <td>yes</td>\n",
       "      <td>172.5</td>\n",
       "      <td>0.0</td>\n",
       "      <td>Years see investments by existing. Dune seas. ...</td>\n",
       "      <td>good</td>\n",
       "    </tr>\n",
       "    <tr>\n",
       "      <th>3</th>\n",
       "      <td>144626</td>\n",
       "      <td>http://www.recipesource.com/main-dishes/seafoo...</td>\n",
       "      <td>74</td>\n",
       "      <td>134.171.33.238</td>\n",
       "      <td>Germany</td>\n",
       "      <td>com</td>\n",
       "      <td>complete</td>\n",
       "      <td>yes</td>\n",
       "      <td>64.5</td>\n",
       "      <td>0.0</td>\n",
       "      <td>Kingdoms and hell creek. Its topics after germ...</td>\n",
       "      <td>good</td>\n",
       "    </tr>\n",
       "    <tr>\n",
       "      <th>4</th>\n",
       "      <td>224846</td>\n",
       "      <td>http://www.msmaustralia.com.au/</td>\n",
       "      <td>31</td>\n",
       "      <td>49.157.35.105</td>\n",
       "      <td>Philippines</td>\n",
       "      <td>com.au</td>\n",
       "      <td>complete</td>\n",
       "      <td>yes</td>\n",
       "      <td>189.0</td>\n",
       "      <td>0.0</td>\n",
       "      <td>Encyclopedia (2008) the nests of cockatoos are...</td>\n",
       "      <td>good</td>\n",
       "    </tr>\n",
       "  </tbody>\n",
       "</table>\n",
       "</div>"
      ],
      "text/plain": [
       "   Unnamed: 0                                                url  url_len  \\\n",
       "0       24864                         http://www.goldspot.com.tw       26   \n",
       "1      317772                     http://www.stbarts-burnley.org       30   \n",
       "2       17590                      http://a.nderson.net/smith86/       29   \n",
       "3      144626  http://www.recipesource.com/main-dishes/seafoo...       74   \n",
       "4      224846                    http://www.msmaustralia.com.au/       31   \n",
       "\n",
       "           ip_add        geo_loc     tld    who_is https  js_len  js_obf_len  \\\n",
       "0  119.199.102.72    South Korea  com.tw  complete    no   123.0         0.0   \n",
       "1     71.83.1.249  United States     org  complete   yes   142.0         0.0   \n",
       "2  132.32.245.190  United States     net  complete   yes   172.5         0.0   \n",
       "3  134.171.33.238        Germany     com  complete   yes    64.5         0.0   \n",
       "4   49.157.35.105    Philippines  com.au  complete   yes   189.0         0.0   \n",
       "\n",
       "                                             content label  \n",
       "0  Denmark \\n functions. as. Overwater recreation...  good  \n",
       "1  phungky vagina snigger's swalow jigger whitey ...  good  \n",
       "2  Years see investments by existing. Dune seas. ...  good  \n",
       "3  Kingdoms and hell creek. Its topics after germ...  good  \n",
       "4  Encyclopedia (2008) the nests of cockatoos are...  good  "
      ]
     },
     "execution_count": 29,
     "metadata": {},
     "output_type": "execute_result"
    }
   ],
   "source": [
    "data.head()"
   ]
  },
  {
   "cell_type": "markdown",
   "metadata": {},
   "source": [
    "Признак Unnamed: 0 ничего нам не дает, можем его удалить"
   ]
  },
  {
   "cell_type": "code",
   "execution_count": 23,
   "metadata": {},
   "outputs": [],
   "source": [
    "del data['Unnamed: 0']"
   ]
  },
  {
   "cell_type": "markdown",
   "metadata": {},
   "source": [
    "Отделим признак content от основной таблицы, так как он является уникальной текстовой переменной  (Не стал извлекать дополнительные признаки из текста)"
   ]
  },
  {
   "cell_type": "code",
   "execution_count": 24,
   "metadata": {},
   "outputs": [],
   "source": [
    "data_content = data['content']\n",
    "del data['content']"
   ]
  },
  {
   "cell_type": "code",
   "execution_count": 25,
   "metadata": {},
   "outputs": [
    {
     "data": {
      "text/plain": [
       "0    Speak one together study all phenomena newton ...\n",
       "1    Individuals. cats the solutrean hypothesis and...\n",
       "2    India international start declaring themselves...\n",
       "3    And bribes inca civilization dominated the eco...\n",
       "4    Medical diseases, gauls. gaul was conquered by...\n",
       "Name: content, dtype: object"
      ]
     },
     "execution_count": 25,
     "metadata": {},
     "output_type": "execute_result"
    }
   ],
   "source": [
    "data_content.head()"
   ]
  },
  {
   "cell_type": "code",
   "execution_count": 33,
   "metadata": {},
   "outputs": [
    {
     "data": {
      "text/html": [
       "<div>\n",
       "<style scoped>\n",
       "    .dataframe tbody tr th:only-of-type {\n",
       "        vertical-align: middle;\n",
       "    }\n",
       "\n",
       "    .dataframe tbody tr th {\n",
       "        vertical-align: top;\n",
       "    }\n",
       "\n",
       "    .dataframe thead th {\n",
       "        text-align: right;\n",
       "    }\n",
       "</style>\n",
       "<table border=\"1\" class=\"dataframe\">\n",
       "  <thead>\n",
       "    <tr style=\"text-align: right;\">\n",
       "      <th></th>\n",
       "      <th>url</th>\n",
       "      <th>url_len</th>\n",
       "      <th>ip_add</th>\n",
       "      <th>geo_loc</th>\n",
       "      <th>tld</th>\n",
       "      <th>who_is</th>\n",
       "      <th>https</th>\n",
       "      <th>js_len</th>\n",
       "      <th>js_obf_len</th>\n",
       "      <th>label</th>\n",
       "    </tr>\n",
       "  </thead>\n",
       "  <tbody>\n",
       "    <tr>\n",
       "      <th>0</th>\n",
       "      <td>http://www.goldspot.com.tw</td>\n",
       "      <td>26</td>\n",
       "      <td>119.199.102.72</td>\n",
       "      <td>South Korea</td>\n",
       "      <td>com.tw</td>\n",
       "      <td>complete</td>\n",
       "      <td>no</td>\n",
       "      <td>123.0</td>\n",
       "      <td>0.0</td>\n",
       "      <td>good</td>\n",
       "    </tr>\n",
       "    <tr>\n",
       "      <th>1</th>\n",
       "      <td>http://www.stbarts-burnley.org</td>\n",
       "      <td>30</td>\n",
       "      <td>71.83.1.249</td>\n",
       "      <td>United States</td>\n",
       "      <td>org</td>\n",
       "      <td>complete</td>\n",
       "      <td>yes</td>\n",
       "      <td>142.0</td>\n",
       "      <td>0.0</td>\n",
       "      <td>good</td>\n",
       "    </tr>\n",
       "    <tr>\n",
       "      <th>2</th>\n",
       "      <td>http://a.nderson.net/smith86/</td>\n",
       "      <td>29</td>\n",
       "      <td>132.32.245.190</td>\n",
       "      <td>United States</td>\n",
       "      <td>net</td>\n",
       "      <td>complete</td>\n",
       "      <td>yes</td>\n",
       "      <td>172.5</td>\n",
       "      <td>0.0</td>\n",
       "      <td>good</td>\n",
       "    </tr>\n",
       "    <tr>\n",
       "      <th>3</th>\n",
       "      <td>http://www.recipesource.com/main-dishes/seafoo...</td>\n",
       "      <td>74</td>\n",
       "      <td>134.171.33.238</td>\n",
       "      <td>Germany</td>\n",
       "      <td>com</td>\n",
       "      <td>complete</td>\n",
       "      <td>yes</td>\n",
       "      <td>64.5</td>\n",
       "      <td>0.0</td>\n",
       "      <td>good</td>\n",
       "    </tr>\n",
       "    <tr>\n",
       "      <th>4</th>\n",
       "      <td>http://www.msmaustralia.com.au/</td>\n",
       "      <td>31</td>\n",
       "      <td>49.157.35.105</td>\n",
       "      <td>Philippines</td>\n",
       "      <td>com.au</td>\n",
       "      <td>complete</td>\n",
       "      <td>yes</td>\n",
       "      <td>189.0</td>\n",
       "      <td>0.0</td>\n",
       "      <td>good</td>\n",
       "    </tr>\n",
       "  </tbody>\n",
       "</table>\n",
       "</div>"
      ],
      "text/plain": [
       "                                                 url  url_len          ip_add  \\\n",
       "0                         http://www.goldspot.com.tw       26  119.199.102.72   \n",
       "1                     http://www.stbarts-burnley.org       30     71.83.1.249   \n",
       "2                      http://a.nderson.net/smith86/       29  132.32.245.190   \n",
       "3  http://www.recipesource.com/main-dishes/seafoo...       74  134.171.33.238   \n",
       "4                    http://www.msmaustralia.com.au/       31   49.157.35.105   \n",
       "\n",
       "         geo_loc     tld    who_is https  js_len  js_obf_len label  \n",
       "0    South Korea  com.tw  complete    no   123.0         0.0  good  \n",
       "1  United States     org  complete   yes   142.0         0.0  good  \n",
       "2  United States     net  complete   yes   172.5         0.0  good  \n",
       "3        Germany     com  complete   yes    64.5         0.0  good  \n",
       "4    Philippines  com.au  complete   yes   189.0         0.0  good  "
      ]
     },
     "execution_count": 33,
     "metadata": {},
     "output_type": "execute_result"
    }
   ],
   "source": [
    "data.head()"
   ]
  },
  {
   "cell_type": "markdown",
   "metadata": {},
   "source": [
    "Как видно, признак url мало повторяется, а значит, мало что нам дает"
   ]
  },
  {
   "cell_type": "code",
   "execution_count": 27,
   "metadata": {},
   "outputs": [
    {
     "data": {
      "text/plain": [
       "74636"
      ]
     },
     "execution_count": 27,
     "metadata": {},
     "output_type": "execute_result"
    }
   ],
   "source": [
    "len(data['url'].unique()) # количество уникальных url из ~74900 объектов"
   ]
  },
  {
   "cell_type": "markdown",
   "metadata": {},
   "source": [
    "Поэтому его можно тоже убрать"
   ]
  },
  {
   "cell_type": "code",
   "execution_count": 28,
   "metadata": {},
   "outputs": [],
   "source": [
    "data_url = data['url']\n",
    "del data['url']"
   ]
  },
  {
   "cell_type": "code",
   "execution_count": 36,
   "metadata": {},
   "outputs": [
    {
     "data": {
      "text/plain": [
       "0                           http://www.goldspot.com.tw\n",
       "1                       http://www.stbarts-burnley.org\n",
       "2                        http://a.nderson.net/smith86/\n",
       "3    http://www.recipesource.com/main-dishes/seafoo...\n",
       "4                      http://www.msmaustralia.com.au/\n",
       "Name: url, dtype: object"
      ]
     },
     "execution_count": 36,
     "metadata": {},
     "output_type": "execute_result"
    }
   ],
   "source": [
    "data_url.head()"
   ]
  },
  {
   "cell_type": "markdown",
   "metadata": {},
   "source": [
    "C ip_add тоже самое: "
   ]
  },
  {
   "cell_type": "code",
   "execution_count": 29,
   "metadata": {},
   "outputs": [
    {
     "data": {
      "text/plain": [
       "74871"
      ]
     },
     "execution_count": 29,
     "metadata": {},
     "output_type": "execute_result"
    }
   ],
   "source": [
    "len(data['ip_add'].unique()) # количество уникальных ip_add из ~74900 объектов"
   ]
  },
  {
   "cell_type": "code",
   "execution_count": 30,
   "metadata": {},
   "outputs": [
    {
     "data": {
      "text/plain": [
       "0    137.214.215.95\n",
       "1      17.211.36.77\n",
       "2    116.42.238.222\n",
       "3      165.37.68.49\n",
       "4    82.180.245.176\n",
       "Name: ip_add, dtype: object"
      ]
     },
     "execution_count": 30,
     "metadata": {},
     "output_type": "execute_result"
    }
   ],
   "source": [
    "data_ip = data['ip_add']\n",
    "del data['ip_add']\n",
    "data_ip.head()"
   ]
  },
  {
   "cell_type": "markdown",
   "metadata": {},
   "source": [
    "### 5. Категориальные признаки"
   ]
  },
  {
   "cell_type": "code",
   "execution_count": 39,
   "metadata": {},
   "outputs": [
    {
     "data": {
      "text/html": [
       "<div>\n",
       "<style scoped>\n",
       "    .dataframe tbody tr th:only-of-type {\n",
       "        vertical-align: middle;\n",
       "    }\n",
       "\n",
       "    .dataframe tbody tr th {\n",
       "        vertical-align: top;\n",
       "    }\n",
       "\n",
       "    .dataframe thead th {\n",
       "        text-align: right;\n",
       "    }\n",
       "</style>\n",
       "<table border=\"1\" class=\"dataframe\">\n",
       "  <thead>\n",
       "    <tr style=\"text-align: right;\">\n",
       "      <th></th>\n",
       "      <th>url_len</th>\n",
       "      <th>geo_loc</th>\n",
       "      <th>tld</th>\n",
       "      <th>who_is</th>\n",
       "      <th>https</th>\n",
       "      <th>js_len</th>\n",
       "      <th>js_obf_len</th>\n",
       "      <th>label</th>\n",
       "    </tr>\n",
       "  </thead>\n",
       "  <tbody>\n",
       "    <tr>\n",
       "      <th>0</th>\n",
       "      <td>26</td>\n",
       "      <td>South Korea</td>\n",
       "      <td>com.tw</td>\n",
       "      <td>complete</td>\n",
       "      <td>no</td>\n",
       "      <td>123.0</td>\n",
       "      <td>0.0</td>\n",
       "      <td>good</td>\n",
       "    </tr>\n",
       "    <tr>\n",
       "      <th>1</th>\n",
       "      <td>30</td>\n",
       "      <td>United States</td>\n",
       "      <td>org</td>\n",
       "      <td>complete</td>\n",
       "      <td>yes</td>\n",
       "      <td>142.0</td>\n",
       "      <td>0.0</td>\n",
       "      <td>good</td>\n",
       "    </tr>\n",
       "    <tr>\n",
       "      <th>2</th>\n",
       "      <td>29</td>\n",
       "      <td>United States</td>\n",
       "      <td>net</td>\n",
       "      <td>complete</td>\n",
       "      <td>yes</td>\n",
       "      <td>172.5</td>\n",
       "      <td>0.0</td>\n",
       "      <td>good</td>\n",
       "    </tr>\n",
       "    <tr>\n",
       "      <th>3</th>\n",
       "      <td>74</td>\n",
       "      <td>Germany</td>\n",
       "      <td>com</td>\n",
       "      <td>complete</td>\n",
       "      <td>yes</td>\n",
       "      <td>64.5</td>\n",
       "      <td>0.0</td>\n",
       "      <td>good</td>\n",
       "    </tr>\n",
       "    <tr>\n",
       "      <th>4</th>\n",
       "      <td>31</td>\n",
       "      <td>Philippines</td>\n",
       "      <td>com.au</td>\n",
       "      <td>complete</td>\n",
       "      <td>yes</td>\n",
       "      <td>189.0</td>\n",
       "      <td>0.0</td>\n",
       "      <td>good</td>\n",
       "    </tr>\n",
       "  </tbody>\n",
       "</table>\n",
       "</div>"
      ],
      "text/plain": [
       "   url_len        geo_loc     tld    who_is https  js_len  js_obf_len label\n",
       "0       26    South Korea  com.tw  complete    no   123.0         0.0  good\n",
       "1       30  United States     org  complete   yes   142.0         0.0  good\n",
       "2       29  United States     net  complete   yes   172.5         0.0  good\n",
       "3       74        Germany     com  complete   yes    64.5         0.0  good\n",
       "4       31    Philippines  com.au  complete   yes   189.0         0.0  good"
      ]
     },
     "execution_count": 39,
     "metadata": {},
     "output_type": "execute_result"
    }
   ],
   "source": [
    "data.head()"
   ]
  },
  {
   "cell_type": "markdown",
   "metadata": {},
   "source": [
    "ge0_loc, who_is, tld, https и label являются категориальными признаками. Сменим их тип на соответствующий: "
   ]
  },
  {
   "cell_type": "code",
   "execution_count": 31,
   "metadata": {},
   "outputs": [],
   "source": [
    "data['geo_loc'] = data['geo_loc'].astype('category')\n",
    "data['who_is'] = data['who_is'].astype('category')\n",
    "data['tld'] = data['tld'].astype('category')\n",
    "data['https'] = data['https'].astype('category')\n",
    "data['label'] = data['label'].astype('category')"
   ]
  },
  {
   "cell_type": "code",
   "execution_count": 32,
   "metadata": {},
   "outputs": [
    {
     "data": {
      "text/html": [
       "<div>\n",
       "<style scoped>\n",
       "    .dataframe tbody tr th:only-of-type {\n",
       "        vertical-align: middle;\n",
       "    }\n",
       "\n",
       "    .dataframe tbody tr th {\n",
       "        vertical-align: top;\n",
       "    }\n",
       "\n",
       "    .dataframe thead th {\n",
       "        text-align: right;\n",
       "    }\n",
       "</style>\n",
       "<table border=\"1\" class=\"dataframe\">\n",
       "  <thead>\n",
       "    <tr style=\"text-align: right;\">\n",
       "      <th></th>\n",
       "      <th>geo_loc</th>\n",
       "      <th>tld</th>\n",
       "      <th>who_is</th>\n",
       "      <th>https</th>\n",
       "      <th>label</th>\n",
       "    </tr>\n",
       "  </thead>\n",
       "  <tbody>\n",
       "    <tr>\n",
       "      <th>count</th>\n",
       "      <td>74873</td>\n",
       "      <td>74873</td>\n",
       "      <td>74873</td>\n",
       "      <td>74873</td>\n",
       "      <td>74873</td>\n",
       "    </tr>\n",
       "    <tr>\n",
       "      <th>unique</th>\n",
       "      <td>192</td>\n",
       "      <td>380</td>\n",
       "      <td>2</td>\n",
       "      <td>2</td>\n",
       "      <td>2</td>\n",
       "    </tr>\n",
       "    <tr>\n",
       "      <th>top</th>\n",
       "      <td>United States</td>\n",
       "      <td>com</td>\n",
       "      <td>incomplete</td>\n",
       "      <td>no</td>\n",
       "      <td>good</td>\n",
       "    </tr>\n",
       "    <tr>\n",
       "      <th>freq</th>\n",
       "      <td>32068</td>\n",
       "      <td>49055</td>\n",
       "      <td>39833</td>\n",
       "      <td>39887</td>\n",
       "      <td>39558</td>\n",
       "    </tr>\n",
       "  </tbody>\n",
       "</table>\n",
       "</div>"
      ],
      "text/plain": [
       "              geo_loc    tld      who_is  https  label\n",
       "count           74873  74873       74873  74873  74873\n",
       "unique            192    380           2      2      2\n",
       "top     United States    com  incomplete     no   good\n",
       "freq            32068  49055       39833  39887  39558"
      ]
     },
     "execution_count": 32,
     "metadata": {},
     "output_type": "execute_result"
    }
   ],
   "source": [
    "data.describe(include=['category'])"
   ]
  },
  {
   "cell_type": "markdown",
   "metadata": {},
   "source": [
    "## Визуализация данных"
   ]
  },
  {
   "cell_type": "markdown",
   "metadata": {},
   "source": [
    "Построим диаграмму рассеивания для признаков 'js_obf_len' и 'label':"
   ]
  },
  {
   "cell_type": "code",
   "execution_count": 42,
   "metadata": {},
   "outputs": [
    {
     "data": {
      "image/png": "[encoded data removed]",
      "text/plain": [
       "<Figure size 432x288 with 1 Axes>"
      ]
     },
     "metadata": {
      "needs_background": "light"
     },
     "output_type": "display_data"
    }
   ],
   "source": [
    "plt.scatter(data['js_obf_len'], data['label'], alpha=0.01)\n",
    "pass"
   ]
  },
  {
   "cell_type": "markdown",
   "metadata": {},
   "source": [
    "И бокс-диаграмму:"
   ]
  },
  {
   "cell_type": "code",
   "execution_count": 43,
   "metadata": {},
   "outputs": [
    {
     "data": {
      "image/png": "[encoded data removed]",
      "text/plain": [
       "<Figure size 432x288 with 1 Axes>"
      ]
     },
     "metadata": {
      "needs_background": "light"
     },
     "output_type": "display_data"
    }
   ],
   "source": [
    "sns.boxplot(x=\"label\", y=\"js_obf_len\", data=data)\n",
    "pass"
   ]
  },
  {
   "cell_type": "markdown",
   "metadata": {},
   "source": [
    "а также скрипичный график: "
   ]
  },
  {
   "cell_type": "code",
   "execution_count": 44,
   "metadata": {},
   "outputs": [
    {
     "data": {
      "image/png": "[encoded data removed]",
      "text/plain": [
       "<Figure size 432x288 with 1 Axes>"
      ]
     },
     "metadata": {
      "needs_background": "light"
     },
     "output_type": "display_data"
    }
   ],
   "source": [
    "sns.violinplot(x=\"label\", y=\"js_obf_len\", data=data)\n",
    "pass"
   ]
  },
  {
   "cell_type": "markdown",
   "metadata": {},
   "source": [
    "Как видно, у плохих сайтов, в отличие от хороших, длина обфусцированного кода отличается от нуля, что означает, что над кодом проводились подозрительные манипуляции"
   ]
  },
  {
   "cell_type": "markdown",
   "metadata": {},
   "source": [
    "Длина кода js также будет больше у плохих сайтов, чем у хороших (js_len). Значит плохой сайт выполняет больше функций, чем должен"
   ]
  },
  {
   "cell_type": "code",
   "execution_count": 45,
   "metadata": {},
   "outputs": [
    {
     "data": {
      "image/png": "[encoded data removed]",
      "text/plain": [
       "<Figure size 432x288 with 1 Axes>"
      ]
     },
     "metadata": {
      "needs_background": "light"
     },
     "output_type": "display_data"
    }
   ],
   "source": [
    "plt.scatter(data['js_len'], data['label'], alpha=0.01)\n",
    "pass"
   ]
  },
  {
   "cell_type": "code",
   "execution_count": 46,
   "metadata": {},
   "outputs": [
    {
     "data": {
      "image/png": "[encoded data removed]",
      "text/plain": [
       "<Figure size 432x288 with 1 Axes>"
      ]
     },
     "metadata": {
      "needs_background": "light"
     },
     "output_type": "display_data"
    }
   ],
   "source": [
    "sns.boxplot(x=\"label\", y=\"js_len\", data=data)\n",
    "pass"
   ]
  },
  {
   "cell_type": "code",
   "execution_count": 47,
   "metadata": {},
   "outputs": [
    {
     "data": {
      "image/png": "[encoded data removed]",
      "text/plain": [
       "<Figure size 432x288 with 1 Axes>"
      ]
     },
     "metadata": {
      "needs_background": "light"
     },
     "output_type": "display_data"
    }
   ],
   "source": [
    "sns.violinplot(x=\"label\", y=\"js_len\", data=data)\n",
    "pass"
   ]
  },
  {
   "cell_type": "markdown",
   "metadata": {},
   "source": [
    "Длина url примерно одинакова (у плохих сайтов замечены выбросы, но это связано с тем, что выбросы у хороших сайтов были отфильтрованы)"
   ]
  },
  {
   "cell_type": "code",
   "execution_count": 48,
   "metadata": {
    "scrolled": true
   },
   "outputs": [
    {
     "data": {
      "image/png": "[encoded data removed]",
      "text/plain": [
       "<Figure size 432x288 with 1 Axes>"
      ]
     },
     "metadata": {
      "needs_background": "light"
     },
     "output_type": "display_data"
    }
   ],
   "source": [
    "plt.scatter(data['url_len'], data['label'], alpha=0.01)\n",
    "pass"
   ]
  },
  {
   "cell_type": "code",
   "execution_count": 49,
   "metadata": {
    "scrolled": true
   },
   "outputs": [
    {
     "data": {
      "image/png": "[encoded data removed]",
      "text/plain": [
       "<Figure size 432x288 with 1 Axes>"
      ]
     },
     "metadata": {
      "needs_background": "light"
     },
     "output_type": "display_data"
    }
   ],
   "source": [
    "sns.boxplot(x=\"label\", y=\"url_len\", data=data)\n",
    "pass"
   ]
  },
  {
   "cell_type": "code",
   "execution_count": 50,
   "metadata": {},
   "outputs": [
    {
     "data": {
      "image/png": "[encoded data removed]",
      "text/plain": [
       "<Figure size 432x288 with 1 Axes>"
      ]
     },
     "metadata": {
      "needs_background": "light"
     },
     "output_type": "display_data"
    }
   ],
   "source": [
    "sns.violinplot(x=\"label\", y=\"url_len\", data=data)\n",
    "pass"
   ]
  },
  {
   "cell_type": "markdown",
   "metadata": {},
   "source": [
    "Плохие сайты чаще пользуются меньшим количеством доменов, чем хорошие: "
   ]
  },
  {
   "cell_type": "code",
   "execution_count": 51,
   "metadata": {},
   "outputs": [
    {
     "data": {
      "image/png": "[encoded data removed]",
      "text/plain": [
       "<Figure size 432x288 with 1 Axes>"
      ]
     },
     "metadata": {
      "needs_background": "light"
     },
     "output_type": "display_data"
    }
   ],
   "source": [
    "plt.scatter(data['tld'], data['label'], alpha=0.01)\n",
    "pass"
   ]
  },
  {
   "cell_type": "markdown",
   "metadata": {},
   "source": [
    "Однако разнообразие их геолокации мало отличается от хороших:"
   ]
  },
  {
   "cell_type": "code",
   "execution_count": 52,
   "metadata": {},
   "outputs": [
    {
     "data": {
      "image/png": "[encoded data removed]",
      "text/plain": [
       "<Figure size 432x288 with 1 Axes>"
      ]
     },
     "metadata": {
      "needs_background": "light"
     },
     "output_type": "display_data"
    }
   ],
   "source": [
    "plt.scatter(data['geo_loc'], data['label'], alpha=0.01)\n",
    "pass"
   ]
  },
  {
   "cell_type": "markdown",
   "metadata": {},
   "source": [
    "Построим все возможные диаграммы рассеивания для каждой пары переменных:"
   ]
  },
  {
   "cell_type": "code",
   "execution_count": 53,
   "metadata": {},
   "outputs": [
    {
     "data": {
      "image/png": "[encoded data removed]",
      "text/plain": [
       "<Figure size 600.75x540 with 12 Axes>"
      ]
     },
     "metadata": {
      "needs_background": "light"
     },
     "output_type": "display_data"
    }
   ],
   "source": [
    "sns.pairplot(data, hue='label', diag_kind='hist')\n",
    "plt.legend()\n",
    "pass"
   ]
  },
  {
   "cell_type": "markdown",
   "metadata": {},
   "source": [
    "Заметна лишь очевидная корреляция между js_len и js_obf_len. Как уже было замечено ранее, хорошие сайты имеют меньшую длину js кода и url, чем плохие, а также не используют обфусцированный js код. "
   ]
  },
  {
   "cell_type": "markdown",
   "metadata": {},
   "source": [
    "Вычислим корреляционную матрицу: "
   ]
  },
  {
   "cell_type": "code",
   "execution_count": 33,
   "metadata": {},
   "outputs": [
    {
     "data": {
      "text/html": [
       "<div>\n",
       "<style scoped>\n",
       "    .dataframe tbody tr th:only-of-type {\n",
       "        vertical-align: middle;\n",
       "    }\n",
       "\n",
       "    .dataframe tbody tr th {\n",
       "        vertical-align: top;\n",
       "    }\n",
       "\n",
       "    .dataframe thead th {\n",
       "        text-align: right;\n",
       "    }\n",
       "</style>\n",
       "<table border=\"1\" class=\"dataframe\">\n",
       "  <thead>\n",
       "    <tr style=\"text-align: right;\">\n",
       "      <th></th>\n",
       "      <th>url_len</th>\n",
       "      <th>js_len</th>\n",
       "      <th>js_obf_len</th>\n",
       "    </tr>\n",
       "  </thead>\n",
       "  <tbody>\n",
       "    <tr>\n",
       "      <th>url_len</th>\n",
       "      <td>1.000000</td>\n",
       "      <td>0.052218</td>\n",
       "      <td>0.052529</td>\n",
       "    </tr>\n",
       "    <tr>\n",
       "      <th>js_len</th>\n",
       "      <td>0.052218</td>\n",
       "      <td>1.000000</td>\n",
       "      <td>0.932819</td>\n",
       "    </tr>\n",
       "    <tr>\n",
       "      <th>js_obf_len</th>\n",
       "      <td>0.052529</td>\n",
       "      <td>0.932819</td>\n",
       "      <td>1.000000</td>\n",
       "    </tr>\n",
       "  </tbody>\n",
       "</table>\n",
       "</div>"
      ],
      "text/plain": [
       "             url_len    js_len  js_obf_len\n",
       "url_len     1.000000  0.052218    0.052529\n",
       "js_len      0.052218  1.000000    0.932819\n",
       "js_obf_len  0.052529  0.932819    1.000000"
      ]
     },
     "execution_count": 33,
     "metadata": {},
     "output_type": "execute_result"
    }
   ],
   "source": [
    "corr_mat = data.corr()\n",
    "corr_mat"
   ]
  },
  {
   "cell_type": "code",
   "execution_count": 34,
   "metadata": {},
   "outputs": [
    {
     "data": {
      "image/png": "[encoded data removed]",
      "text/plain": [
       "<Figure size 432x288 with 2 Axes>"
      ]
     },
     "metadata": {
      "needs_background": "light"
     },
     "output_type": "display_data"
    }
   ],
   "source": [
    "sns.heatmap(corr_mat, square=True, cmap='coolwarm')\n",
    "pass"
   ]
  },
  {
   "cell_type": "markdown",
   "metadata": {},
   "source": [
    "## Бинаризация номинальных признаков"
   ]
  },
  {
   "cell_type": "code",
   "execution_count": 35,
   "metadata": {},
   "outputs": [
    {
     "data": {
      "text/html": [
       "<div>\n",
       "<style scoped>\n",
       "    .dataframe tbody tr th:only-of-type {\n",
       "        vertical-align: middle;\n",
       "    }\n",
       "\n",
       "    .dataframe tbody tr th {\n",
       "        vertical-align: top;\n",
       "    }\n",
       "\n",
       "    .dataframe thead th {\n",
       "        text-align: right;\n",
       "    }\n",
       "</style>\n",
       "<table border=\"1\" class=\"dataframe\">\n",
       "  <thead>\n",
       "    <tr style=\"text-align: right;\">\n",
       "      <th></th>\n",
       "      <th>geo_loc</th>\n",
       "      <th>tld</th>\n",
       "      <th>who_is</th>\n",
       "      <th>https</th>\n",
       "      <th>label</th>\n",
       "    </tr>\n",
       "  </thead>\n",
       "  <tbody>\n",
       "    <tr>\n",
       "      <th>count</th>\n",
       "      <td>74873</td>\n",
       "      <td>74873</td>\n",
       "      <td>74873</td>\n",
       "      <td>74873</td>\n",
       "      <td>74873</td>\n",
       "    </tr>\n",
       "    <tr>\n",
       "      <th>unique</th>\n",
       "      <td>192</td>\n",
       "      <td>380</td>\n",
       "      <td>2</td>\n",
       "      <td>2</td>\n",
       "      <td>2</td>\n",
       "    </tr>\n",
       "    <tr>\n",
       "      <th>top</th>\n",
       "      <td>United States</td>\n",
       "      <td>com</td>\n",
       "      <td>incomplete</td>\n",
       "      <td>no</td>\n",
       "      <td>good</td>\n",
       "    </tr>\n",
       "    <tr>\n",
       "      <th>freq</th>\n",
       "      <td>32068</td>\n",
       "      <td>49055</td>\n",
       "      <td>39833</td>\n",
       "      <td>39887</td>\n",
       "      <td>39558</td>\n",
       "    </tr>\n",
       "  </tbody>\n",
       "</table>\n",
       "</div>"
      ],
      "text/plain": [
       "              geo_loc    tld      who_is  https  label\n",
       "count           74873  74873       74873  74873  74873\n",
       "unique            192    380           2      2      2\n",
       "top     United States    com  incomplete     no   good\n",
       "freq            32068  49055       39833  39887  39558"
      ]
     },
     "execution_count": 35,
     "metadata": {},
     "output_type": "execute_result"
    }
   ],
   "source": [
    "data.describe(include=['category'])"
   ]
  },
  {
   "cell_type": "markdown",
   "metadata": {},
   "source": [
    "Имеем 3 бинарных и 2 небинарных признака. Заменим бинарные на числовые: "
   ]
  },
  {
   "cell_type": "code",
   "execution_count": 36,
   "metadata": {},
   "outputs": [
    {
     "data": {
      "text/plain": [
       "incomplete    39833\n",
       "complete      35040\n",
       "Name: who_is, dtype: int64"
      ]
     },
     "execution_count": 36,
     "metadata": {},
     "output_type": "execute_result"
    }
   ],
   "source": [
    "data['who_is'].value_counts()"
   ]
  },
  {
   "cell_type": "code",
   "execution_count": 37,
   "metadata": {},
   "outputs": [
    {
     "data": {
      "text/plain": [
       "1    39833\n",
       "0    35040\n",
       "Name: who_is, dtype: int64"
      ]
     },
     "execution_count": 37,
     "metadata": {},
     "output_type": "execute_result"
    }
   ],
   "source": [
    "# complete -> 0, incomplete -> 1\n",
    "\n",
    "data['who_is'] = pd.factorize(data['who_is'])[0]\n",
    "data['who_is'].value_counts() "
   ]
  },
  {
   "cell_type": "code",
   "execution_count": 38,
   "metadata": {},
   "outputs": [
    {
     "data": {
      "text/plain": [
       "no     39887\n",
       "yes    34986\n",
       "Name: https, dtype: int64"
      ]
     },
     "execution_count": 38,
     "metadata": {},
     "output_type": "execute_result"
    }
   ],
   "source": [
    "data['https'].value_counts()"
   ]
  },
  {
   "cell_type": "code",
   "execution_count": 39,
   "metadata": {},
   "outputs": [
    {
     "data": {
      "text/plain": [
       "1    39887\n",
       "0    34986\n",
       "Name: https, dtype: int64"
      ]
     },
     "execution_count": 39,
     "metadata": {},
     "output_type": "execute_result"
    }
   ],
   "source": [
    "# yes -> 0, no -> 1\n",
    "\n",
    "data['https'] = pd.factorize(data['https'])[0]\n",
    "data['https'].value_counts() "
   ]
  },
  {
   "cell_type": "code",
   "execution_count": 40,
   "metadata": {},
   "outputs": [
    {
     "data": {
      "text/plain": [
       "good    39558\n",
       "bad     35315\n",
       "Name: label, dtype: int64"
      ]
     },
     "execution_count": 40,
     "metadata": {},
     "output_type": "execute_result"
    }
   ],
   "source": [
    "data['label'].value_counts()"
   ]
  },
  {
   "cell_type": "code",
   "execution_count": 41,
   "metadata": {},
   "outputs": [
    {
     "data": {
      "text/plain": [
       "0    39558\n",
       "1    35315\n",
       "Name: label, dtype: int64"
      ]
     },
     "execution_count": 41,
     "metadata": {},
     "output_type": "execute_result"
    }
   ],
   "source": [
    "# good -> 0, bad -> 1\n",
    "\n",
    "data['label'] = pd.factorize(data['label'])[0]\n",
    "data['label'].value_counts() "
   ]
  },
  {
   "cell_type": "markdown",
   "metadata": {},
   "source": [
    "таким образом преобразовали бинарные признаки в числовые:"
   ]
  },
  {
   "cell_type": "code",
   "execution_count": 42,
   "metadata": {
    "scrolled": true
   },
   "outputs": [
    {
     "data": {
      "text/html": [
       "<div>\n",
       "<style scoped>\n",
       "    .dataframe tbody tr th:only-of-type {\n",
       "        vertical-align: middle;\n",
       "    }\n",
       "\n",
       "    .dataframe tbody tr th {\n",
       "        vertical-align: top;\n",
       "    }\n",
       "\n",
       "    .dataframe thead th {\n",
       "        text-align: right;\n",
       "    }\n",
       "</style>\n",
       "<table border=\"1\" class=\"dataframe\">\n",
       "  <thead>\n",
       "    <tr style=\"text-align: right;\">\n",
       "      <th></th>\n",
       "      <th>url_len</th>\n",
       "      <th>geo_loc</th>\n",
       "      <th>tld</th>\n",
       "      <th>who_is</th>\n",
       "      <th>https</th>\n",
       "      <th>js_len</th>\n",
       "      <th>js_obf_len</th>\n",
       "      <th>label</th>\n",
       "    </tr>\n",
       "  </thead>\n",
       "  <tbody>\n",
       "    <tr>\n",
       "      <th>0</th>\n",
       "      <td>61</td>\n",
       "      <td>South Africa</td>\n",
       "      <td>com</td>\n",
       "      <td>0</td>\n",
       "      <td>0</td>\n",
       "      <td>148.0</td>\n",
       "      <td>0.0</td>\n",
       "      <td>0</td>\n",
       "    </tr>\n",
       "    <tr>\n",
       "      <th>1</th>\n",
       "      <td>24</td>\n",
       "      <td>United States</td>\n",
       "      <td>com</td>\n",
       "      <td>1</td>\n",
       "      <td>1</td>\n",
       "      <td>45.0</td>\n",
       "      <td>0.0</td>\n",
       "      <td>0</td>\n",
       "    </tr>\n",
       "    <tr>\n",
       "      <th>2</th>\n",
       "      <td>23</td>\n",
       "      <td>South Korea</td>\n",
       "      <td>com</td>\n",
       "      <td>0</td>\n",
       "      <td>0</td>\n",
       "      <td>147.5</td>\n",
       "      <td>0.0</td>\n",
       "      <td>0</td>\n",
       "    </tr>\n",
       "    <tr>\n",
       "      <th>3</th>\n",
       "      <td>28</td>\n",
       "      <td>United States</td>\n",
       "      <td>com</td>\n",
       "      <td>1</td>\n",
       "      <td>1</td>\n",
       "      <td>62.5</td>\n",
       "      <td>0.0</td>\n",
       "      <td>0</td>\n",
       "    </tr>\n",
       "    <tr>\n",
       "      <th>4</th>\n",
       "      <td>58</td>\n",
       "      <td>Denmark</td>\n",
       "      <td>com</td>\n",
       "      <td>0</td>\n",
       "      <td>0</td>\n",
       "      <td>48.0</td>\n",
       "      <td>0.0</td>\n",
       "      <td>0</td>\n",
       "    </tr>\n",
       "  </tbody>\n",
       "</table>\n",
       "</div>"
      ],
      "text/plain": [
       "   url_len        geo_loc  tld  who_is  https  js_len  js_obf_len  label\n",
       "0       61   South Africa  com       0      0   148.0         0.0      0\n",
       "1       24  United States  com       1      1    45.0         0.0      0\n",
       "2       23    South Korea  com       0      0   147.5         0.0      0\n",
       "3       28  United States  com       1      1    62.5         0.0      0\n",
       "4       58        Denmark  com       0      0    48.0         0.0      0"
      ]
     },
     "execution_count": 42,
     "metadata": {},
     "output_type": "execute_result"
    }
   ],
   "source": [
    "data.head()"
   ]
  },
  {
   "cell_type": "markdown",
   "metadata": {},
   "source": [
    "Еще раз вычислим корреляционную матрицу, чтобы удостовериться в предыдущих выводах:"
   ]
  },
  {
   "cell_type": "code",
   "execution_count": 43,
   "metadata": {},
   "outputs": [
    {
     "data": {
      "text/html": [
       "<div>\n",
       "<style scoped>\n",
       "    .dataframe tbody tr th:only-of-type {\n",
       "        vertical-align: middle;\n",
       "    }\n",
       "\n",
       "    .dataframe tbody tr th {\n",
       "        vertical-align: top;\n",
       "    }\n",
       "\n",
       "    .dataframe thead th {\n",
       "        text-align: right;\n",
       "    }\n",
       "</style>\n",
       "<table border=\"1\" class=\"dataframe\">\n",
       "  <thead>\n",
       "    <tr style=\"text-align: right;\">\n",
       "      <th></th>\n",
       "      <th>url_len</th>\n",
       "      <th>who_is</th>\n",
       "      <th>https</th>\n",
       "      <th>js_len</th>\n",
       "      <th>js_obf_len</th>\n",
       "      <th>label</th>\n",
       "    </tr>\n",
       "  </thead>\n",
       "  <tbody>\n",
       "    <tr>\n",
       "      <th>url_len</th>\n",
       "      <td>1.000000</td>\n",
       "      <td>0.043980</td>\n",
       "      <td>0.045490</td>\n",
       "      <td>0.052218</td>\n",
       "      <td>0.052529</td>\n",
       "      <td>0.064213</td>\n",
       "    </tr>\n",
       "    <tr>\n",
       "      <th>who_is</th>\n",
       "      <td>0.043980</td>\n",
       "      <td>1.000000</td>\n",
       "      <td>0.481594</td>\n",
       "      <td>0.590683</td>\n",
       "      <td>0.572791</td>\n",
       "      <td>0.698030</td>\n",
       "    </tr>\n",
       "    <tr>\n",
       "      <th>https</th>\n",
       "      <td>0.045490</td>\n",
       "      <td>0.481594</td>\n",
       "      <td>1.000000</td>\n",
       "      <td>0.586359</td>\n",
       "      <td>0.571842</td>\n",
       "      <td>0.694692</td>\n",
       "    </tr>\n",
       "    <tr>\n",
       "      <th>js_len</th>\n",
       "      <td>0.052218</td>\n",
       "      <td>0.590683</td>\n",
       "      <td>0.586359</td>\n",
       "      <td>1.000000</td>\n",
       "      <td>0.932819</td>\n",
       "      <td>0.843652</td>\n",
       "    </tr>\n",
       "    <tr>\n",
       "      <th>js_obf_len</th>\n",
       "      <td>0.052529</td>\n",
       "      <td>0.572791</td>\n",
       "      <td>0.571842</td>\n",
       "      <td>0.932819</td>\n",
       "      <td>1.000000</td>\n",
       "      <td>0.822083</td>\n",
       "    </tr>\n",
       "    <tr>\n",
       "      <th>label</th>\n",
       "      <td>0.064213</td>\n",
       "      <td>0.698030</td>\n",
       "      <td>0.694692</td>\n",
       "      <td>0.843652</td>\n",
       "      <td>0.822083</td>\n",
       "      <td>1.000000</td>\n",
       "    </tr>\n",
       "  </tbody>\n",
       "</table>\n",
       "</div>"
      ],
      "text/plain": [
       "             url_len    who_is     https    js_len  js_obf_len     label\n",
       "url_len     1.000000  0.043980  0.045490  0.052218    0.052529  0.064213\n",
       "who_is      0.043980  1.000000  0.481594  0.590683    0.572791  0.698030\n",
       "https       0.045490  0.481594  1.000000  0.586359    0.571842  0.694692\n",
       "js_len      0.052218  0.590683  0.586359  1.000000    0.932819  0.843652\n",
       "js_obf_len  0.052529  0.572791  0.571842  0.932819    1.000000  0.822083\n",
       "label       0.064213  0.698030  0.694692  0.843652    0.822083  1.000000"
      ]
     },
     "execution_count": 43,
     "metadata": {},
     "output_type": "execute_result"
    }
   ],
   "source": [
    "corr_mat1 = data.corr()\n",
    "corr_mat1"
   ]
  },
  {
   "cell_type": "code",
   "execution_count": 44,
   "metadata": {},
   "outputs": [
    {
     "data": {
      "image/png": "[encoded data removed]",
      "text/plain": [
       "<Figure size 432x288 with 2 Axes>"
      ]
     },
     "metadata": {
      "needs_background": "light"
     },
     "output_type": "display_data"
    }
   ],
   "source": [
    "sns.heatmap(corr_mat1, square=True, cmap='coolwarm')\n",
    "pass"
   ]
  },
  {
   "cell_type": "markdown",
   "metadata": {},
   "source": [
    "Действительно, длина кода влияет на то, плохой сайт или хороший. "
   ]
  },
  {
   "cell_type": "markdown",
   "metadata": {},
   "source": [
    "С двумя небинарными признаками дело обстоит сложнее - обработав их, получим много новых столбцов (если не уменьшать выборку хороших сайтов, то столбцов будет больше тысячи, однако с уменьшенной выборкой их порядка 600 штук)"
   ]
  },
  {
   "cell_type": "code",
   "execution_count": 45,
   "metadata": {},
   "outputs": [
    {
     "data": {
      "text/html": [
       "<div>\n",
       "<style scoped>\n",
       "    .dataframe tbody tr th:only-of-type {\n",
       "        vertical-align: middle;\n",
       "    }\n",
       "\n",
       "    .dataframe tbody tr th {\n",
       "        vertical-align: top;\n",
       "    }\n",
       "\n",
       "    .dataframe thead th {\n",
       "        text-align: right;\n",
       "    }\n",
       "</style>\n",
       "<table border=\"1\" class=\"dataframe\">\n",
       "  <thead>\n",
       "    <tr style=\"text-align: right;\">\n",
       "      <th></th>\n",
       "      <th>Afghanistan</th>\n",
       "      <th>Albania</th>\n",
       "      <th>Algeria</th>\n",
       "      <th>Andorra</th>\n",
       "      <th>Angola</th>\n",
       "      <th>Anguilla</th>\n",
       "      <th>Argentina</th>\n",
       "      <th>Armenia</th>\n",
       "      <th>Aruba</th>\n",
       "      <th>Australia</th>\n",
       "      <th>...</th>\n",
       "      <th>United States</th>\n",
       "      <th>Uruguay</th>\n",
       "      <th>Uzbekistan</th>\n",
       "      <th>Venezuela</th>\n",
       "      <th>Vietnam</th>\n",
       "      <th>Wallis and Futuna</th>\n",
       "      <th>Yemen</th>\n",
       "      <th>Zambia</th>\n",
       "      <th>Zimbabwe</th>\n",
       "      <th>Åland</th>\n",
       "    </tr>\n",
       "  </thead>\n",
       "  <tbody>\n",
       "    <tr>\n",
       "      <th>0</th>\n",
       "      <td>0</td>\n",
       "      <td>0</td>\n",
       "      <td>0</td>\n",
       "      <td>0</td>\n",
       "      <td>0</td>\n",
       "      <td>0</td>\n",
       "      <td>0</td>\n",
       "      <td>0</td>\n",
       "      <td>0</td>\n",
       "      <td>0</td>\n",
       "      <td>...</td>\n",
       "      <td>0</td>\n",
       "      <td>0</td>\n",
       "      <td>0</td>\n",
       "      <td>0</td>\n",
       "      <td>0</td>\n",
       "      <td>0</td>\n",
       "      <td>0</td>\n",
       "      <td>0</td>\n",
       "      <td>0</td>\n",
       "      <td>0</td>\n",
       "    </tr>\n",
       "    <tr>\n",
       "      <th>1</th>\n",
       "      <td>0</td>\n",
       "      <td>0</td>\n",
       "      <td>0</td>\n",
       "      <td>0</td>\n",
       "      <td>0</td>\n",
       "      <td>0</td>\n",
       "      <td>0</td>\n",
       "      <td>0</td>\n",
       "      <td>0</td>\n",
       "      <td>0</td>\n",
       "      <td>...</td>\n",
       "      <td>1</td>\n",
       "      <td>0</td>\n",
       "      <td>0</td>\n",
       "      <td>0</td>\n",
       "      <td>0</td>\n",
       "      <td>0</td>\n",
       "      <td>0</td>\n",
       "      <td>0</td>\n",
       "      <td>0</td>\n",
       "      <td>0</td>\n",
       "    </tr>\n",
       "    <tr>\n",
       "      <th>2</th>\n",
       "      <td>0</td>\n",
       "      <td>0</td>\n",
       "      <td>0</td>\n",
       "      <td>0</td>\n",
       "      <td>0</td>\n",
       "      <td>0</td>\n",
       "      <td>0</td>\n",
       "      <td>0</td>\n",
       "      <td>0</td>\n",
       "      <td>0</td>\n",
       "      <td>...</td>\n",
       "      <td>0</td>\n",
       "      <td>0</td>\n",
       "      <td>0</td>\n",
       "      <td>0</td>\n",
       "      <td>0</td>\n",
       "      <td>0</td>\n",
       "      <td>0</td>\n",
       "      <td>0</td>\n",
       "      <td>0</td>\n",
       "      <td>0</td>\n",
       "    </tr>\n",
       "    <tr>\n",
       "      <th>3</th>\n",
       "      <td>0</td>\n",
       "      <td>0</td>\n",
       "      <td>0</td>\n",
       "      <td>0</td>\n",
       "      <td>0</td>\n",
       "      <td>0</td>\n",
       "      <td>0</td>\n",
       "      <td>0</td>\n",
       "      <td>0</td>\n",
       "      <td>0</td>\n",
       "      <td>...</td>\n",
       "      <td>1</td>\n",
       "      <td>0</td>\n",
       "      <td>0</td>\n",
       "      <td>0</td>\n",
       "      <td>0</td>\n",
       "      <td>0</td>\n",
       "      <td>0</td>\n",
       "      <td>0</td>\n",
       "      <td>0</td>\n",
       "      <td>0</td>\n",
       "    </tr>\n",
       "    <tr>\n",
       "      <th>4</th>\n",
       "      <td>0</td>\n",
       "      <td>0</td>\n",
       "      <td>0</td>\n",
       "      <td>0</td>\n",
       "      <td>0</td>\n",
       "      <td>0</td>\n",
       "      <td>0</td>\n",
       "      <td>0</td>\n",
       "      <td>0</td>\n",
       "      <td>0</td>\n",
       "      <td>...</td>\n",
       "      <td>0</td>\n",
       "      <td>0</td>\n",
       "      <td>0</td>\n",
       "      <td>0</td>\n",
       "      <td>0</td>\n",
       "      <td>0</td>\n",
       "      <td>0</td>\n",
       "      <td>0</td>\n",
       "      <td>0</td>\n",
       "      <td>0</td>\n",
       "    </tr>\n",
       "  </tbody>\n",
       "</table>\n",
       "<p>5 rows × 192 columns</p>\n",
       "</div>"
      ],
      "text/plain": [
       "   Afghanistan  Albania  Algeria  Andorra  Angola  Anguilla  Argentina  \\\n",
       "0            0        0        0        0       0         0          0   \n",
       "1            0        0        0        0       0         0          0   \n",
       "2            0        0        0        0       0         0          0   \n",
       "3            0        0        0        0       0         0          0   \n",
       "4            0        0        0        0       0         0          0   \n",
       "\n",
       "   Armenia  Aruba  Australia  ...  United States  Uruguay  Uzbekistan  \\\n",
       "0        0      0          0  ...              0        0           0   \n",
       "1        0      0          0  ...              1        0           0   \n",
       "2        0      0          0  ...              0        0           0   \n",
       "3        0      0          0  ...              1        0           0   \n",
       "4        0      0          0  ...              0        0           0   \n",
       "\n",
       "   Venezuela  Vietnam  Wallis and Futuna  Yemen  Zambia  Zimbabwe  Åland  \n",
       "0          0        0                  0      0       0         0      0  \n",
       "1          0        0                  0      0       0         0      0  \n",
       "2          0        0                  0      0       0         0      0  \n",
       "3          0        0                  0      0       0         0      0  \n",
       "4          0        0                  0      0       0         0      0  \n",
       "\n",
       "[5 rows x 192 columns]"
      ]
     },
     "execution_count": 45,
     "metadata": {},
     "output_type": "execute_result"
    }
   ],
   "source": [
    "data_geo = pd.get_dummies(data['geo_loc'])\n",
    "data_geo.head()"
   ]
  },
  {
   "cell_type": "code",
   "execution_count": 46,
   "metadata": {},
   "outputs": [
    {
     "data": {
      "text/html": [
       "<div>\n",
       "<style scoped>\n",
       "    .dataframe tbody tr th:only-of-type {\n",
       "        vertical-align: middle;\n",
       "    }\n",
       "\n",
       "    .dataframe tbody tr th {\n",
       "        vertical-align: top;\n",
       "    }\n",
       "\n",
       "    .dataframe thead th {\n",
       "        text-align: right;\n",
       "    }\n",
       "</style>\n",
       "<table border=\"1\" class=\"dataframe\">\n",
       "  <thead>\n",
       "    <tr style=\"text-align: right;\">\n",
       "      <th></th>\n",
       "      <th>a.se</th>\n",
       "      <th>ab.ca</th>\n",
       "      <th>aberdeen.sch.uk</th>\n",
       "      <th>ac</th>\n",
       "      <th>ac.at</th>\n",
       "      <th>ac.bd</th>\n",
       "      <th>ac.be</th>\n",
       "      <th>ac.cn</th>\n",
       "      <th>ac.cr</th>\n",
       "      <th>ac.il</th>\n",
       "      <th>...</th>\n",
       "      <th>warrington.sch.uk</th>\n",
       "      <th>washingtondc.museum</th>\n",
       "      <th>waw.pl</th>\n",
       "      <th>web.id</th>\n",
       "      <th>wroc.pl</th>\n",
       "      <th>ws</th>\n",
       "      <th>wv.us</th>\n",
       "      <th>wy.us</th>\n",
       "      <th>yk.ca</th>\n",
       "      <th>za.net</th>\n",
       "    </tr>\n",
       "  </thead>\n",
       "  <tbody>\n",
       "    <tr>\n",
       "      <th>0</th>\n",
       "      <td>0</td>\n",
       "      <td>0</td>\n",
       "      <td>0</td>\n",
       "      <td>0</td>\n",
       "      <td>0</td>\n",
       "      <td>0</td>\n",
       "      <td>0</td>\n",
       "      <td>0</td>\n",
       "      <td>0</td>\n",
       "      <td>0</td>\n",
       "      <td>...</td>\n",
       "      <td>0</td>\n",
       "      <td>0</td>\n",
       "      <td>0</td>\n",
       "      <td>0</td>\n",
       "      <td>0</td>\n",
       "      <td>0</td>\n",
       "      <td>0</td>\n",
       "      <td>0</td>\n",
       "      <td>0</td>\n",
       "      <td>0</td>\n",
       "    </tr>\n",
       "    <tr>\n",
       "      <th>1</th>\n",
       "      <td>0</td>\n",
       "      <td>0</td>\n",
       "      <td>0</td>\n",
       "      <td>0</td>\n",
       "      <td>0</td>\n",
       "      <td>0</td>\n",
       "      <td>0</td>\n",
       "      <td>0</td>\n",
       "      <td>0</td>\n",
       "      <td>0</td>\n",
       "      <td>...</td>\n",
       "      <td>0</td>\n",
       "      <td>0</td>\n",
       "      <td>0</td>\n",
       "      <td>0</td>\n",
       "      <td>0</td>\n",
       "      <td>0</td>\n",
       "      <td>0</td>\n",
       "      <td>0</td>\n",
       "      <td>0</td>\n",
       "      <td>0</td>\n",
       "    </tr>\n",
       "    <tr>\n",
       "      <th>2</th>\n",
       "      <td>0</td>\n",
       "      <td>0</td>\n",
       "      <td>0</td>\n",
       "      <td>0</td>\n",
       "      <td>0</td>\n",
       "      <td>0</td>\n",
       "      <td>0</td>\n",
       "      <td>0</td>\n",
       "      <td>0</td>\n",
       "      <td>0</td>\n",
       "      <td>...</td>\n",
       "      <td>0</td>\n",
       "      <td>0</td>\n",
       "      <td>0</td>\n",
       "      <td>0</td>\n",
       "      <td>0</td>\n",
       "      <td>0</td>\n",
       "      <td>0</td>\n",
       "      <td>0</td>\n",
       "      <td>0</td>\n",
       "      <td>0</td>\n",
       "    </tr>\n",
       "    <tr>\n",
       "      <th>3</th>\n",
       "      <td>0</td>\n",
       "      <td>0</td>\n",
       "      <td>0</td>\n",
       "      <td>0</td>\n",
       "      <td>0</td>\n",
       "      <td>0</td>\n",
       "      <td>0</td>\n",
       "      <td>0</td>\n",
       "      <td>0</td>\n",
       "      <td>0</td>\n",
       "      <td>...</td>\n",
       "      <td>0</td>\n",
       "      <td>0</td>\n",
       "      <td>0</td>\n",
       "      <td>0</td>\n",
       "      <td>0</td>\n",
       "      <td>0</td>\n",
       "      <td>0</td>\n",
       "      <td>0</td>\n",
       "      <td>0</td>\n",
       "      <td>0</td>\n",
       "    </tr>\n",
       "    <tr>\n",
       "      <th>4</th>\n",
       "      <td>0</td>\n",
       "      <td>0</td>\n",
       "      <td>0</td>\n",
       "      <td>0</td>\n",
       "      <td>0</td>\n",
       "      <td>0</td>\n",
       "      <td>0</td>\n",
       "      <td>0</td>\n",
       "      <td>0</td>\n",
       "      <td>0</td>\n",
       "      <td>...</td>\n",
       "      <td>0</td>\n",
       "      <td>0</td>\n",
       "      <td>0</td>\n",
       "      <td>0</td>\n",
       "      <td>0</td>\n",
       "      <td>0</td>\n",
       "      <td>0</td>\n",
       "      <td>0</td>\n",
       "      <td>0</td>\n",
       "      <td>0</td>\n",
       "    </tr>\n",
       "  </tbody>\n",
       "</table>\n",
       "<p>5 rows × 380 columns</p>\n",
       "</div>"
      ],
      "text/plain": [
       "   a.se  ab.ca  aberdeen.sch.uk  ac  ac.at  ac.bd  ac.be  ac.cn  ac.cr  ac.il  \\\n",
       "0     0      0                0   0      0      0      0      0      0      0   \n",
       "1     0      0                0   0      0      0      0      0      0      0   \n",
       "2     0      0                0   0      0      0      0      0      0      0   \n",
       "3     0      0                0   0      0      0      0      0      0      0   \n",
       "4     0      0                0   0      0      0      0      0      0      0   \n",
       "\n",
       "   ...  warrington.sch.uk  washingtondc.museum  waw.pl  web.id  wroc.pl  ws  \\\n",
       "0  ...                  0                    0       0       0        0   0   \n",
       "1  ...                  0                    0       0       0        0   0   \n",
       "2  ...                  0                    0       0       0        0   0   \n",
       "3  ...                  0                    0       0       0        0   0   \n",
       "4  ...                  0                    0       0       0        0   0   \n",
       "\n",
       "   wv.us  wy.us  yk.ca  za.net  \n",
       "0      0      0      0       0  \n",
       "1      0      0      0       0  \n",
       "2      0      0      0       0  \n",
       "3      0      0      0       0  \n",
       "4      0      0      0       0  \n",
       "\n",
       "[5 rows x 380 columns]"
      ]
     },
     "execution_count": 46,
     "metadata": {},
     "output_type": "execute_result"
    }
   ],
   "source": [
    "data_tld = pd.get_dummies(data['tld'])\n",
    "data_tld.head()"
   ]
  },
  {
   "cell_type": "code",
   "execution_count": 47,
   "metadata": {},
   "outputs": [],
   "source": [
    "data_out = pd.concat((data, data_geo, data_tld), axis=1)\n",
    "data_out = data_out.drop(['geo_loc'], axis=1)\n",
    "data_out = data_out.drop(['tld'], axis=1)"
   ]
  },
  {
   "cell_type": "code",
   "execution_count": 48,
   "metadata": {},
   "outputs": [
    {
     "data": {
      "text/html": [
       "<div>\n",
       "<style scoped>\n",
       "    .dataframe tbody tr th:only-of-type {\n",
       "        vertical-align: middle;\n",
       "    }\n",
       "\n",
       "    .dataframe tbody tr th {\n",
       "        vertical-align: top;\n",
       "    }\n",
       "\n",
       "    .dataframe thead th {\n",
       "        text-align: right;\n",
       "    }\n",
       "</style>\n",
       "<table border=\"1\" class=\"dataframe\">\n",
       "  <thead>\n",
       "    <tr style=\"text-align: right;\">\n",
       "      <th></th>\n",
       "      <th>url_len</th>\n",
       "      <th>who_is</th>\n",
       "      <th>https</th>\n",
       "      <th>js_len</th>\n",
       "      <th>js_obf_len</th>\n",
       "      <th>label</th>\n",
       "      <th>Afghanistan</th>\n",
       "      <th>Albania</th>\n",
       "      <th>Algeria</th>\n",
       "      <th>Andorra</th>\n",
       "      <th>...</th>\n",
       "      <th>warrington.sch.uk</th>\n",
       "      <th>washingtondc.museum</th>\n",
       "      <th>waw.pl</th>\n",
       "      <th>web.id</th>\n",
       "      <th>wroc.pl</th>\n",
       "      <th>ws</th>\n",
       "      <th>wv.us</th>\n",
       "      <th>wy.us</th>\n",
       "      <th>yk.ca</th>\n",
       "      <th>za.net</th>\n",
       "    </tr>\n",
       "  </thead>\n",
       "  <tbody>\n",
       "    <tr>\n",
       "      <th>0</th>\n",
       "      <td>61</td>\n",
       "      <td>0</td>\n",
       "      <td>0</td>\n",
       "      <td>148.0</td>\n",
       "      <td>0.0</td>\n",
       "      <td>0</td>\n",
       "      <td>0</td>\n",
       "      <td>0</td>\n",
       "      <td>0</td>\n",
       "      <td>0</td>\n",
       "      <td>...</td>\n",
       "      <td>0</td>\n",
       "      <td>0</td>\n",
       "      <td>0</td>\n",
       "      <td>0</td>\n",
       "      <td>0</td>\n",
       "      <td>0</td>\n",
       "      <td>0</td>\n",
       "      <td>0</td>\n",
       "      <td>0</td>\n",
       "      <td>0</td>\n",
       "    </tr>\n",
       "    <tr>\n",
       "      <th>1</th>\n",
       "      <td>24</td>\n",
       "      <td>1</td>\n",
       "      <td>1</td>\n",
       "      <td>45.0</td>\n",
       "      <td>0.0</td>\n",
       "      <td>0</td>\n",
       "      <td>0</td>\n",
       "      <td>0</td>\n",
       "      <td>0</td>\n",
       "      <td>0</td>\n",
       "      <td>...</td>\n",
       "      <td>0</td>\n",
       "      <td>0</td>\n",
       "      <td>0</td>\n",
       "      <td>0</td>\n",
       "      <td>0</td>\n",
       "      <td>0</td>\n",
       "      <td>0</td>\n",
       "      <td>0</td>\n",
       "      <td>0</td>\n",
       "      <td>0</td>\n",
       "    </tr>\n",
       "    <tr>\n",
       "      <th>2</th>\n",
       "      <td>23</td>\n",
       "      <td>0</td>\n",
       "      <td>0</td>\n",
       "      <td>147.5</td>\n",
       "      <td>0.0</td>\n",
       "      <td>0</td>\n",
       "      <td>0</td>\n",
       "      <td>0</td>\n",
       "      <td>0</td>\n",
       "      <td>0</td>\n",
       "      <td>...</td>\n",
       "      <td>0</td>\n",
       "      <td>0</td>\n",
       "      <td>0</td>\n",
       "      <td>0</td>\n",
       "      <td>0</td>\n",
       "      <td>0</td>\n",
       "      <td>0</td>\n",
       "      <td>0</td>\n",
       "      <td>0</td>\n",
       "      <td>0</td>\n",
       "    </tr>\n",
       "    <tr>\n",
       "      <th>3</th>\n",
       "      <td>28</td>\n",
       "      <td>1</td>\n",
       "      <td>1</td>\n",
       "      <td>62.5</td>\n",
       "      <td>0.0</td>\n",
       "      <td>0</td>\n",
       "      <td>0</td>\n",
       "      <td>0</td>\n",
       "      <td>0</td>\n",
       "      <td>0</td>\n",
       "      <td>...</td>\n",
       "      <td>0</td>\n",
       "      <td>0</td>\n",
       "      <td>0</td>\n",
       "      <td>0</td>\n",
       "      <td>0</td>\n",
       "      <td>0</td>\n",
       "      <td>0</td>\n",
       "      <td>0</td>\n",
       "      <td>0</td>\n",
       "      <td>0</td>\n",
       "    </tr>\n",
       "    <tr>\n",
       "      <th>4</th>\n",
       "      <td>58</td>\n",
       "      <td>0</td>\n",
       "      <td>0</td>\n",
       "      <td>48.0</td>\n",
       "      <td>0.0</td>\n",
       "      <td>0</td>\n",
       "      <td>0</td>\n",
       "      <td>0</td>\n",
       "      <td>0</td>\n",
       "      <td>0</td>\n",
       "      <td>...</td>\n",
       "      <td>0</td>\n",
       "      <td>0</td>\n",
       "      <td>0</td>\n",
       "      <td>0</td>\n",
       "      <td>0</td>\n",
       "      <td>0</td>\n",
       "      <td>0</td>\n",
       "      <td>0</td>\n",
       "      <td>0</td>\n",
       "      <td>0</td>\n",
       "    </tr>\n",
       "  </tbody>\n",
       "</table>\n",
       "<p>5 rows × 578 columns</p>\n",
       "</div>"
      ],
      "text/plain": [
       "   url_len  who_is  https  js_len  js_obf_len  label  Afghanistan  Albania  \\\n",
       "0       61       0      0   148.0         0.0      0            0        0   \n",
       "1       24       1      1    45.0         0.0      0            0        0   \n",
       "2       23       0      0   147.5         0.0      0            0        0   \n",
       "3       28       1      1    62.5         0.0      0            0        0   \n",
       "4       58       0      0    48.0         0.0      0            0        0   \n",
       "\n",
       "   Algeria  Andorra  ...  warrington.sch.uk  washingtondc.museum  waw.pl  \\\n",
       "0        0        0  ...                  0                    0       0   \n",
       "1        0        0  ...                  0                    0       0   \n",
       "2        0        0  ...                  0                    0       0   \n",
       "3        0        0  ...                  0                    0       0   \n",
       "4        0        0  ...                  0                    0       0   \n",
       "\n",
       "   web.id  wroc.pl  ws  wv.us  wy.us  yk.ca  za.net  \n",
       "0       0        0   0      0      0      0       0  \n",
       "1       0        0   0      0      0      0       0  \n",
       "2       0        0   0      0      0      0       0  \n",
       "3       0        0   0      0      0      0       0  \n",
       "4       0        0   0      0      0      0       0  \n",
       "\n",
       "[5 rows x 578 columns]"
      ]
     },
     "execution_count": 48,
     "metadata": {},
     "output_type": "execute_result"
    }
   ],
   "source": [
    "data_out.head()"
   ]
  },
  {
   "cell_type": "code",
   "execution_count": 49,
   "metadata": {},
   "outputs": [
    {
     "data": {
      "text/html": [
       "<div>\n",
       "<style scoped>\n",
       "    .dataframe tbody tr th:only-of-type {\n",
       "        vertical-align: middle;\n",
       "    }\n",
       "\n",
       "    .dataframe tbody tr th {\n",
       "        vertical-align: top;\n",
       "    }\n",
       "\n",
       "    .dataframe thead th {\n",
       "        text-align: right;\n",
       "    }\n",
       "</style>\n",
       "<table border=\"1\" class=\"dataframe\">\n",
       "  <thead>\n",
       "    <tr style=\"text-align: right;\">\n",
       "      <th></th>\n",
       "      <th>url_len</th>\n",
       "      <th>who_is</th>\n",
       "      <th>https</th>\n",
       "      <th>js_len</th>\n",
       "      <th>js_obf_len</th>\n",
       "      <th>label</th>\n",
       "      <th>Afghanistan</th>\n",
       "      <th>Albania</th>\n",
       "      <th>Algeria</th>\n",
       "      <th>Andorra</th>\n",
       "      <th>...</th>\n",
       "      <th>warrington.sch.uk</th>\n",
       "      <th>washingtondc.museum</th>\n",
       "      <th>waw.pl</th>\n",
       "      <th>web.id</th>\n",
       "      <th>wroc.pl</th>\n",
       "      <th>ws</th>\n",
       "      <th>wv.us</th>\n",
       "      <th>wy.us</th>\n",
       "      <th>yk.ca</th>\n",
       "      <th>za.net</th>\n",
       "    </tr>\n",
       "  </thead>\n",
       "  <tbody>\n",
       "    <tr>\n",
       "      <th>count</th>\n",
       "      <td>74873.000000</td>\n",
       "      <td>74873.000000</td>\n",
       "      <td>74873.000000</td>\n",
       "      <td>74873.000000</td>\n",
       "      <td>74873.000000</td>\n",
       "      <td>74873.000000</td>\n",
       "      <td>74873.000000</td>\n",
       "      <td>74873.000000</td>\n",
       "      <td>74873.000000</td>\n",
       "      <td>74873.000000</td>\n",
       "      <td>...</td>\n",
       "      <td>74873.000000</td>\n",
       "      <td>74873.000000</td>\n",
       "      <td>74873.000000</td>\n",
       "      <td>74873.000000</td>\n",
       "      <td>74873.000000</td>\n",
       "      <td>74873.000000</td>\n",
       "      <td>74873.000000</td>\n",
       "      <td>74873.000000</td>\n",
       "      <td>74873.000000</td>\n",
       "      <td>74873.00000</td>\n",
       "    </tr>\n",
       "    <tr>\n",
       "      <th>mean</th>\n",
       "      <td>36.231258</td>\n",
       "      <td>0.532008</td>\n",
       "      <td>0.532729</td>\n",
       "      <td>320.162060</td>\n",
       "      <td>169.760753</td>\n",
       "      <td>0.471665</td>\n",
       "      <td>0.000120</td>\n",
       "      <td>0.000134</td>\n",
       "      <td>0.001269</td>\n",
       "      <td>0.000027</td>\n",
       "      <td>...</td>\n",
       "      <td>0.000013</td>\n",
       "      <td>0.000013</td>\n",
       "      <td>0.000053</td>\n",
       "      <td>0.000013</td>\n",
       "      <td>0.000013</td>\n",
       "      <td>0.001095</td>\n",
       "      <td>0.000013</td>\n",
       "      <td>0.000013</td>\n",
       "      <td>0.000013</td>\n",
       "      <td>0.00004</td>\n",
       "    </tr>\n",
       "    <tr>\n",
       "      <th>std</th>\n",
       "      <td>13.379932</td>\n",
       "      <td>0.498978</td>\n",
       "      <td>0.498931</td>\n",
       "      <td>264.496907</td>\n",
       "      <td>218.555682</td>\n",
       "      <td>0.499200</td>\n",
       "      <td>0.010963</td>\n",
       "      <td>0.011556</td>\n",
       "      <td>0.035598</td>\n",
       "      <td>0.005168</td>\n",
       "      <td>...</td>\n",
       "      <td>0.003655</td>\n",
       "      <td>0.003655</td>\n",
       "      <td>0.007309</td>\n",
       "      <td>0.003655</td>\n",
       "      <td>0.003655</td>\n",
       "      <td>0.033076</td>\n",
       "      <td>0.003655</td>\n",
       "      <td>0.003655</td>\n",
       "      <td>0.003655</td>\n",
       "      <td>0.00633</td>\n",
       "    </tr>\n",
       "    <tr>\n",
       "      <th>min</th>\n",
       "      <td>13.000000</td>\n",
       "      <td>0.000000</td>\n",
       "      <td>0.000000</td>\n",
       "      <td>0.000000</td>\n",
       "      <td>0.000000</td>\n",
       "      <td>0.000000</td>\n",
       "      <td>0.000000</td>\n",
       "      <td>0.000000</td>\n",
       "      <td>0.000000</td>\n",
       "      <td>0.000000</td>\n",
       "      <td>...</td>\n",
       "      <td>0.000000</td>\n",
       "      <td>0.000000</td>\n",
       "      <td>0.000000</td>\n",
       "      <td>0.000000</td>\n",
       "      <td>0.000000</td>\n",
       "      <td>0.000000</td>\n",
       "      <td>0.000000</td>\n",
       "      <td>0.000000</td>\n",
       "      <td>0.000000</td>\n",
       "      <td>0.00000</td>\n",
       "    </tr>\n",
       "    <tr>\n",
       "      <th>25%</th>\n",
       "      <td>26.000000</td>\n",
       "      <td>0.000000</td>\n",
       "      <td>0.000000</td>\n",
       "      <td>97.500000</td>\n",
       "      <td>0.000000</td>\n",
       "      <td>0.000000</td>\n",
       "      <td>0.000000</td>\n",
       "      <td>0.000000</td>\n",
       "      <td>0.000000</td>\n",
       "      <td>0.000000</td>\n",
       "      <td>...</td>\n",
       "      <td>0.000000</td>\n",
       "      <td>0.000000</td>\n",
       "      <td>0.000000</td>\n",
       "      <td>0.000000</td>\n",
       "      <td>0.000000</td>\n",
       "      <td>0.000000</td>\n",
       "      <td>0.000000</td>\n",
       "      <td>0.000000</td>\n",
       "      <td>0.000000</td>\n",
       "      <td>0.00000</td>\n",
       "    </tr>\n",
       "    <tr>\n",
       "      <th>50%</th>\n",
       "      <td>32.000000</td>\n",
       "      <td>1.000000</td>\n",
       "      <td>1.000000</td>\n",
       "      <td>182.500000</td>\n",
       "      <td>0.000000</td>\n",
       "      <td>0.000000</td>\n",
       "      <td>0.000000</td>\n",
       "      <td>0.000000</td>\n",
       "      <td>0.000000</td>\n",
       "      <td>0.000000</td>\n",
       "      <td>...</td>\n",
       "      <td>0.000000</td>\n",
       "      <td>0.000000</td>\n",
       "      <td>0.000000</td>\n",
       "      <td>0.000000</td>\n",
       "      <td>0.000000</td>\n",
       "      <td>0.000000</td>\n",
       "      <td>0.000000</td>\n",
       "      <td>0.000000</td>\n",
       "      <td>0.000000</td>\n",
       "      <td>0.00000</td>\n",
       "    </tr>\n",
       "    <tr>\n",
       "      <th>75%</th>\n",
       "      <td>44.000000</td>\n",
       "      <td>1.000000</td>\n",
       "      <td>1.000000</td>\n",
       "      <td>553.500000</td>\n",
       "      <td>350.838000</td>\n",
       "      <td>1.000000</td>\n",
       "      <td>0.000000</td>\n",
       "      <td>0.000000</td>\n",
       "      <td>0.000000</td>\n",
       "      <td>0.000000</td>\n",
       "      <td>...</td>\n",
       "      <td>0.000000</td>\n",
       "      <td>0.000000</td>\n",
       "      <td>0.000000</td>\n",
       "      <td>0.000000</td>\n",
       "      <td>0.000000</td>\n",
       "      <td>0.000000</td>\n",
       "      <td>0.000000</td>\n",
       "      <td>0.000000</td>\n",
       "      <td>0.000000</td>\n",
       "      <td>0.00000</td>\n",
       "    </tr>\n",
       "    <tr>\n",
       "      <th>max</th>\n",
       "      <td>416.000000</td>\n",
       "      <td>1.000000</td>\n",
       "      <td>1.000000</td>\n",
       "      <td>854.100000</td>\n",
       "      <td>802.854000</td>\n",
       "      <td>1.000000</td>\n",
       "      <td>1.000000</td>\n",
       "      <td>1.000000</td>\n",
       "      <td>1.000000</td>\n",
       "      <td>1.000000</td>\n",
       "      <td>...</td>\n",
       "      <td>1.000000</td>\n",
       "      <td>1.000000</td>\n",
       "      <td>1.000000</td>\n",
       "      <td>1.000000</td>\n",
       "      <td>1.000000</td>\n",
       "      <td>1.000000</td>\n",
       "      <td>1.000000</td>\n",
       "      <td>1.000000</td>\n",
       "      <td>1.000000</td>\n",
       "      <td>1.00000</td>\n",
       "    </tr>\n",
       "  </tbody>\n",
       "</table>\n",
       "<p>8 rows × 578 columns</p>\n",
       "</div>"
      ],
      "text/plain": [
       "            url_len        who_is         https        js_len    js_obf_len  \\\n",
       "count  74873.000000  74873.000000  74873.000000  74873.000000  74873.000000   \n",
       "mean      36.231258      0.532008      0.532729    320.162060    169.760753   \n",
       "std       13.379932      0.498978      0.498931    264.496907    218.555682   \n",
       "min       13.000000      0.000000      0.000000      0.000000      0.000000   \n",
       "25%       26.000000      0.000000      0.000000     97.500000      0.000000   \n",
       "50%       32.000000      1.000000      1.000000    182.500000      0.000000   \n",
       "75%       44.000000      1.000000      1.000000    553.500000    350.838000   \n",
       "max      416.000000      1.000000      1.000000    854.100000    802.854000   \n",
       "\n",
       "              label   Afghanistan       Albania       Algeria       Andorra  \\\n",
       "count  74873.000000  74873.000000  74873.000000  74873.000000  74873.000000   \n",
       "mean       0.471665      0.000120      0.000134      0.001269      0.000027   \n",
       "std        0.499200      0.010963      0.011556      0.035598      0.005168   \n",
       "min        0.000000      0.000000      0.000000      0.000000      0.000000   \n",
       "25%        0.000000      0.000000      0.000000      0.000000      0.000000   \n",
       "50%        0.000000      0.000000      0.000000      0.000000      0.000000   \n",
       "75%        1.000000      0.000000      0.000000      0.000000      0.000000   \n",
       "max        1.000000      1.000000      1.000000      1.000000      1.000000   \n",
       "\n",
       "       ...  warrington.sch.uk  washingtondc.museum        waw.pl  \\\n",
       "count  ...       74873.000000         74873.000000  74873.000000   \n",
       "mean   ...           0.000013             0.000013      0.000053   \n",
       "std    ...           0.003655             0.003655      0.007309   \n",
       "min    ...           0.000000             0.000000      0.000000   \n",
       "25%    ...           0.000000             0.000000      0.000000   \n",
       "50%    ...           0.000000             0.000000      0.000000   \n",
       "75%    ...           0.000000             0.000000      0.000000   \n",
       "max    ...           1.000000             1.000000      1.000000   \n",
       "\n",
       "             web.id       wroc.pl            ws         wv.us         wy.us  \\\n",
       "count  74873.000000  74873.000000  74873.000000  74873.000000  74873.000000   \n",
       "mean       0.000013      0.000013      0.001095      0.000013      0.000013   \n",
       "std        0.003655      0.003655      0.033076      0.003655      0.003655   \n",
       "min        0.000000      0.000000      0.000000      0.000000      0.000000   \n",
       "25%        0.000000      0.000000      0.000000      0.000000      0.000000   \n",
       "50%        0.000000      0.000000      0.000000      0.000000      0.000000   \n",
       "75%        0.000000      0.000000      0.000000      0.000000      0.000000   \n",
       "max        1.000000      1.000000      1.000000      1.000000      1.000000   \n",
       "\n",
       "              yk.ca       za.net  \n",
       "count  74873.000000  74873.00000  \n",
       "mean       0.000013      0.00004  \n",
       "std        0.003655      0.00633  \n",
       "min        0.000000      0.00000  \n",
       "25%        0.000000      0.00000  \n",
       "50%        0.000000      0.00000  \n",
       "75%        0.000000      0.00000  \n",
       "max        1.000000      1.00000  \n",
       "\n",
       "[8 rows x 578 columns]"
      ]
     },
     "execution_count": 49,
     "metadata": {},
     "output_type": "execute_result"
    }
   ],
   "source": [
    "data_out.describe()"
   ]
  },
  {
   "cell_type": "markdown",
   "metadata": {},
   "source": [
    "## Нормализация количественных признаков"
   ]
  },
  {
   "cell_type": "markdown",
   "metadata": {},
   "source": [
    "Каждый количественный признак приведем к нулевому среднему и единичному среднеквадратичному отклонению:"
   ]
  },
  {
   "cell_type": "code",
   "execution_count": 50,
   "metadata": {},
   "outputs": [],
   "source": [
    "data_num = data_out[['url_len', 'js_len', 'js_obf_len']]"
   ]
  },
  {
   "cell_type": "code",
   "execution_count": 51,
   "metadata": {},
   "outputs": [
    {
     "data": {
      "text/html": [
       "<div>\n",
       "<style scoped>\n",
       "    .dataframe tbody tr th:only-of-type {\n",
       "        vertical-align: middle;\n",
       "    }\n",
       "\n",
       "    .dataframe tbody tr th {\n",
       "        vertical-align: top;\n",
       "    }\n",
       "\n",
       "    .dataframe thead th {\n",
       "        text-align: right;\n",
       "    }\n",
       "</style>\n",
       "<table border=\"1\" class=\"dataframe\">\n",
       "  <thead>\n",
       "    <tr style=\"text-align: right;\">\n",
       "      <th></th>\n",
       "      <th>url_len</th>\n",
       "      <th>js_len</th>\n",
       "      <th>js_obf_len</th>\n",
       "    </tr>\n",
       "  </thead>\n",
       "  <tbody>\n",
       "    <tr>\n",
       "      <th>count</th>\n",
       "      <td>7.487300e+04</td>\n",
       "      <td>7.487300e+04</td>\n",
       "      <td>7.487300e+04</td>\n",
       "    </tr>\n",
       "    <tr>\n",
       "      <th>mean</th>\n",
       "      <td>8.389136e-17</td>\n",
       "      <td>-1.336188e-16</td>\n",
       "      <td>6.529101e-17</td>\n",
       "    </tr>\n",
       "    <tr>\n",
       "      <th>std</th>\n",
       "      <td>1.000000e+00</td>\n",
       "      <td>1.000000e+00</td>\n",
       "      <td>1.000000e+00</td>\n",
       "    </tr>\n",
       "    <tr>\n",
       "      <th>min</th>\n",
       "      <td>-1.736276e+00</td>\n",
       "      <td>-1.210457e+00</td>\n",
       "      <td>-7.767391e-01</td>\n",
       "    </tr>\n",
       "    <tr>\n",
       "      <th>25%</th>\n",
       "      <td>-7.646719e-01</td>\n",
       "      <td>-8.418324e-01</td>\n",
       "      <td>-7.767391e-01</td>\n",
       "    </tr>\n",
       "    <tr>\n",
       "      <th>50%</th>\n",
       "      <td>-3.162391e-01</td>\n",
       "      <td>-5.204676e-01</td>\n",
       "      <td>-7.767391e-01</td>\n",
       "    </tr>\n",
       "    <tr>\n",
       "      <th>75%</th>\n",
       "      <td>5.806264e-01</td>\n",
       "      <td>8.821953e-01</td>\n",
       "      <td>8.285177e-01</td>\n",
       "    </tr>\n",
       "    <tr>\n",
       "      <th>max</th>\n",
       "      <td>2.838346e+01</td>\n",
       "      <td>2.018693e+00</td>\n",
       "      <td>2.896714e+00</td>\n",
       "    </tr>\n",
       "  </tbody>\n",
       "</table>\n",
       "</div>"
      ],
      "text/plain": [
       "            url_len        js_len    js_obf_len\n",
       "count  7.487300e+04  7.487300e+04  7.487300e+04\n",
       "mean   8.389136e-17 -1.336188e-16  6.529101e-17\n",
       "std    1.000000e+00  1.000000e+00  1.000000e+00\n",
       "min   -1.736276e+00 -1.210457e+00 -7.767391e-01\n",
       "25%   -7.646719e-01 -8.418324e-01 -7.767391e-01\n",
       "50%   -3.162391e-01 -5.204676e-01 -7.767391e-01\n",
       "75%    5.806264e-01  8.821953e-01  8.285177e-01\n",
       "max    2.838346e+01  2.018693e+00  2.896714e+00"
      ]
     },
     "execution_count": 51,
     "metadata": {},
     "output_type": "execute_result"
    }
   ],
   "source": [
    "data_stand = (data_num - data_num.mean(axis = 0))/data_num.std(axis = 0)\n",
    "data_stand.describe()"
   ]
  },
  {
   "cell_type": "code",
   "execution_count": 54,
   "metadata": {},
   "outputs": [
    {
     "data": {
      "text/html": [
       "<div>\n",
       "<style scoped>\n",
       "    .dataframe tbody tr th:only-of-type {\n",
       "        vertical-align: middle;\n",
       "    }\n",
       "\n",
       "    .dataframe tbody tr th {\n",
       "        vertical-align: top;\n",
       "    }\n",
       "\n",
       "    .dataframe thead th {\n",
       "        text-align: right;\n",
       "    }\n",
       "</style>\n",
       "<table border=\"1\" class=\"dataframe\">\n",
       "  <thead>\n",
       "    <tr style=\"text-align: right;\">\n",
       "      <th></th>\n",
       "      <th>who_is</th>\n",
       "      <th>https</th>\n",
       "      <th>label</th>\n",
       "      <th>Afghanistan</th>\n",
       "      <th>Albania</th>\n",
       "      <th>Algeria</th>\n",
       "      <th>Andorra</th>\n",
       "      <th>Angola</th>\n",
       "      <th>Anguilla</th>\n",
       "      <th>Argentina</th>\n",
       "      <th>...</th>\n",
       "      <th>warrington.sch.uk</th>\n",
       "      <th>washingtondc.museum</th>\n",
       "      <th>waw.pl</th>\n",
       "      <th>web.id</th>\n",
       "      <th>wroc.pl</th>\n",
       "      <th>ws</th>\n",
       "      <th>wv.us</th>\n",
       "      <th>wy.us</th>\n",
       "      <th>yk.ca</th>\n",
       "      <th>za.net</th>\n",
       "    </tr>\n",
       "  </thead>\n",
       "  <tbody>\n",
       "    <tr>\n",
       "      <th>0</th>\n",
       "      <td>0</td>\n",
       "      <td>0</td>\n",
       "      <td>0</td>\n",
       "      <td>0</td>\n",
       "      <td>0</td>\n",
       "      <td>0</td>\n",
       "      <td>0</td>\n",
       "      <td>0</td>\n",
       "      <td>0</td>\n",
       "      <td>0</td>\n",
       "      <td>...</td>\n",
       "      <td>0</td>\n",
       "      <td>0</td>\n",
       "      <td>0</td>\n",
       "      <td>0</td>\n",
       "      <td>0</td>\n",
       "      <td>0</td>\n",
       "      <td>0</td>\n",
       "      <td>0</td>\n",
       "      <td>0</td>\n",
       "      <td>0</td>\n",
       "    </tr>\n",
       "    <tr>\n",
       "      <th>1</th>\n",
       "      <td>1</td>\n",
       "      <td>1</td>\n",
       "      <td>0</td>\n",
       "      <td>0</td>\n",
       "      <td>0</td>\n",
       "      <td>0</td>\n",
       "      <td>0</td>\n",
       "      <td>0</td>\n",
       "      <td>0</td>\n",
       "      <td>0</td>\n",
       "      <td>...</td>\n",
       "      <td>0</td>\n",
       "      <td>0</td>\n",
       "      <td>0</td>\n",
       "      <td>0</td>\n",
       "      <td>0</td>\n",
       "      <td>0</td>\n",
       "      <td>0</td>\n",
       "      <td>0</td>\n",
       "      <td>0</td>\n",
       "      <td>0</td>\n",
       "    </tr>\n",
       "    <tr>\n",
       "      <th>2</th>\n",
       "      <td>0</td>\n",
       "      <td>0</td>\n",
       "      <td>0</td>\n",
       "      <td>0</td>\n",
       "      <td>0</td>\n",
       "      <td>0</td>\n",
       "      <td>0</td>\n",
       "      <td>0</td>\n",
       "      <td>0</td>\n",
       "      <td>0</td>\n",
       "      <td>...</td>\n",
       "      <td>0</td>\n",
       "      <td>0</td>\n",
       "      <td>0</td>\n",
       "      <td>0</td>\n",
       "      <td>0</td>\n",
       "      <td>0</td>\n",
       "      <td>0</td>\n",
       "      <td>0</td>\n",
       "      <td>0</td>\n",
       "      <td>0</td>\n",
       "    </tr>\n",
       "    <tr>\n",
       "      <th>3</th>\n",
       "      <td>1</td>\n",
       "      <td>1</td>\n",
       "      <td>0</td>\n",
       "      <td>0</td>\n",
       "      <td>0</td>\n",
       "      <td>0</td>\n",
       "      <td>0</td>\n",
       "      <td>0</td>\n",
       "      <td>0</td>\n",
       "      <td>0</td>\n",
       "      <td>...</td>\n",
       "      <td>0</td>\n",
       "      <td>0</td>\n",
       "      <td>0</td>\n",
       "      <td>0</td>\n",
       "      <td>0</td>\n",
       "      <td>0</td>\n",
       "      <td>0</td>\n",
       "      <td>0</td>\n",
       "      <td>0</td>\n",
       "      <td>0</td>\n",
       "    </tr>\n",
       "    <tr>\n",
       "      <th>4</th>\n",
       "      <td>0</td>\n",
       "      <td>0</td>\n",
       "      <td>0</td>\n",
       "      <td>0</td>\n",
       "      <td>0</td>\n",
       "      <td>0</td>\n",
       "      <td>0</td>\n",
       "      <td>0</td>\n",
       "      <td>0</td>\n",
       "      <td>0</td>\n",
       "      <td>...</td>\n",
       "      <td>0</td>\n",
       "      <td>0</td>\n",
       "      <td>0</td>\n",
       "      <td>0</td>\n",
       "      <td>0</td>\n",
       "      <td>0</td>\n",
       "      <td>0</td>\n",
       "      <td>0</td>\n",
       "      <td>0</td>\n",
       "      <td>0</td>\n",
       "    </tr>\n",
       "    <tr>\n",
       "      <th>...</th>\n",
       "      <td>...</td>\n",
       "      <td>...</td>\n",
       "      <td>...</td>\n",
       "      <td>...</td>\n",
       "      <td>...</td>\n",
       "      <td>...</td>\n",
       "      <td>...</td>\n",
       "      <td>...</td>\n",
       "      <td>...</td>\n",
       "      <td>...</td>\n",
       "      <td>...</td>\n",
       "      <td>...</td>\n",
       "      <td>...</td>\n",
       "      <td>...</td>\n",
       "      <td>...</td>\n",
       "      <td>...</td>\n",
       "      <td>...</td>\n",
       "      <td>...</td>\n",
       "      <td>...</td>\n",
       "      <td>...</td>\n",
       "      <td>...</td>\n",
       "    </tr>\n",
       "    <tr>\n",
       "      <th>74868</th>\n",
       "      <td>1</td>\n",
       "      <td>1</td>\n",
       "      <td>1</td>\n",
       "      <td>0</td>\n",
       "      <td>0</td>\n",
       "      <td>0</td>\n",
       "      <td>0</td>\n",
       "      <td>0</td>\n",
       "      <td>0</td>\n",
       "      <td>0</td>\n",
       "      <td>...</td>\n",
       "      <td>0</td>\n",
       "      <td>0</td>\n",
       "      <td>0</td>\n",
       "      <td>0</td>\n",
       "      <td>0</td>\n",
       "      <td>0</td>\n",
       "      <td>0</td>\n",
       "      <td>0</td>\n",
       "      <td>0</td>\n",
       "      <td>0</td>\n",
       "    </tr>\n",
       "    <tr>\n",
       "      <th>74869</th>\n",
       "      <td>1</td>\n",
       "      <td>1</td>\n",
       "      <td>1</td>\n",
       "      <td>0</td>\n",
       "      <td>0</td>\n",
       "      <td>0</td>\n",
       "      <td>0</td>\n",
       "      <td>0</td>\n",
       "      <td>0</td>\n",
       "      <td>0</td>\n",
       "      <td>...</td>\n",
       "      <td>0</td>\n",
       "      <td>0</td>\n",
       "      <td>0</td>\n",
       "      <td>0</td>\n",
       "      <td>0</td>\n",
       "      <td>0</td>\n",
       "      <td>0</td>\n",
       "      <td>0</td>\n",
       "      <td>0</td>\n",
       "      <td>0</td>\n",
       "    </tr>\n",
       "    <tr>\n",
       "      <th>74870</th>\n",
       "      <td>1</td>\n",
       "      <td>1</td>\n",
       "      <td>1</td>\n",
       "      <td>0</td>\n",
       "      <td>0</td>\n",
       "      <td>0</td>\n",
       "      <td>0</td>\n",
       "      <td>0</td>\n",
       "      <td>0</td>\n",
       "      <td>0</td>\n",
       "      <td>...</td>\n",
       "      <td>0</td>\n",
       "      <td>0</td>\n",
       "      <td>0</td>\n",
       "      <td>0</td>\n",
       "      <td>0</td>\n",
       "      <td>0</td>\n",
       "      <td>0</td>\n",
       "      <td>0</td>\n",
       "      <td>0</td>\n",
       "      <td>0</td>\n",
       "    </tr>\n",
       "    <tr>\n",
       "      <th>74871</th>\n",
       "      <td>1</td>\n",
       "      <td>1</td>\n",
       "      <td>1</td>\n",
       "      <td>0</td>\n",
       "      <td>0</td>\n",
       "      <td>0</td>\n",
       "      <td>0</td>\n",
       "      <td>0</td>\n",
       "      <td>0</td>\n",
       "      <td>0</td>\n",
       "      <td>...</td>\n",
       "      <td>0</td>\n",
       "      <td>0</td>\n",
       "      <td>0</td>\n",
       "      <td>0</td>\n",
       "      <td>0</td>\n",
       "      <td>0</td>\n",
       "      <td>0</td>\n",
       "      <td>0</td>\n",
       "      <td>0</td>\n",
       "      <td>0</td>\n",
       "    </tr>\n",
       "    <tr>\n",
       "      <th>74872</th>\n",
       "      <td>1</td>\n",
       "      <td>1</td>\n",
       "      <td>1</td>\n",
       "      <td>0</td>\n",
       "      <td>0</td>\n",
       "      <td>0</td>\n",
       "      <td>0</td>\n",
       "      <td>0</td>\n",
       "      <td>0</td>\n",
       "      <td>0</td>\n",
       "      <td>...</td>\n",
       "      <td>0</td>\n",
       "      <td>0</td>\n",
       "      <td>0</td>\n",
       "      <td>0</td>\n",
       "      <td>0</td>\n",
       "      <td>0</td>\n",
       "      <td>0</td>\n",
       "      <td>0</td>\n",
       "      <td>0</td>\n",
       "      <td>0</td>\n",
       "    </tr>\n",
       "  </tbody>\n",
       "</table>\n",
       "<p>74873 rows × 575 columns</p>\n",
       "</div>"
      ],
      "text/plain": [
       "       who_is  https  label  Afghanistan  Albania  Algeria  Andorra  Angola  \\\n",
       "0           0      0      0            0        0        0        0       0   \n",
       "1           1      1      0            0        0        0        0       0   \n",
       "2           0      0      0            0        0        0        0       0   \n",
       "3           1      1      0            0        0        0        0       0   \n",
       "4           0      0      0            0        0        0        0       0   \n",
       "...       ...    ...    ...          ...      ...      ...      ...     ...   \n",
       "74868       1      1      1            0        0        0        0       0   \n",
       "74869       1      1      1            0        0        0        0       0   \n",
       "74870       1      1      1            0        0        0        0       0   \n",
       "74871       1      1      1            0        0        0        0       0   \n",
       "74872       1      1      1            0        0        0        0       0   \n",
       "\n",
       "       Anguilla  Argentina  ...  warrington.sch.uk  washingtondc.museum  \\\n",
       "0             0          0  ...                  0                    0   \n",
       "1             0          0  ...                  0                    0   \n",
       "2             0          0  ...                  0                    0   \n",
       "3             0          0  ...                  0                    0   \n",
       "4             0          0  ...                  0                    0   \n",
       "...         ...        ...  ...                ...                  ...   \n",
       "74868         0          0  ...                  0                    0   \n",
       "74869         0          0  ...                  0                    0   \n",
       "74870         0          0  ...                  0                    0   \n",
       "74871         0          0  ...                  0                    0   \n",
       "74872         0          0  ...                  0                    0   \n",
       "\n",
       "       waw.pl  web.id  wroc.pl  ws  wv.us  wy.us  yk.ca  za.net  \n",
       "0           0       0        0   0      0      0      0       0  \n",
       "1           0       0        0   0      0      0      0       0  \n",
       "2           0       0        0   0      0      0      0       0  \n",
       "3           0       0        0   0      0      0      0       0  \n",
       "4           0       0        0   0      0      0      0       0  \n",
       "...       ...     ...      ...  ..    ...    ...    ...     ...  \n",
       "74868       0       0        0   0      0      0      0       0  \n",
       "74869       0       0        0   0      0      0      0       0  \n",
       "74870       0       0        0   0      0      0      0       0  \n",
       "74871       0       0        0   0      0      0      0       0  \n",
       "74872       0       0        0   0      0      0      0       0  \n",
       "\n",
       "[74873 rows x 575 columns]"
      ]
     },
     "execution_count": 54,
     "metadata": {},
     "output_type": "execute_result"
    }
   ],
   "source": [
    "data_num_old = data_out[['url_len', 'js_len', 'js_obf_len']]\n",
    "data_out.drop(['url_len', 'js_len', 'js_obf_len'], axis = 1)"
   ]
  },
  {
   "cell_type": "markdown",
   "metadata": {},
   "source": [
    "Складываем в единую таблицу: "
   ]
  },
  {
   "cell_type": "code",
   "execution_count": 57,
   "metadata": {},
   "outputs": [
    {
     "data": {
      "text/plain": [
       "(74873, 578)"
      ]
     },
     "execution_count": 57,
     "metadata": {},
     "output_type": "execute_result"
    }
   ],
   "source": [
    "data_res = pd.concat([data_stand, data_out.drop(['url_len', 'js_len', 'js_obf_len'], axis = 1)], axis=1)\n",
    "data_res.shape"
   ]
  },
  {
   "cell_type": "code",
   "execution_count": 58,
   "metadata": {},
   "outputs": [
    {
     "data": {
      "text/html": [
       "<div>\n",
       "<style scoped>\n",
       "    .dataframe tbody tr th:only-of-type {\n",
       "        vertical-align: middle;\n",
       "    }\n",
       "\n",
       "    .dataframe tbody tr th {\n",
       "        vertical-align: top;\n",
       "    }\n",
       "\n",
       "    .dataframe thead th {\n",
       "        text-align: right;\n",
       "    }\n",
       "</style>\n",
       "<table border=\"1\" class=\"dataframe\">\n",
       "  <thead>\n",
       "    <tr style=\"text-align: right;\">\n",
       "      <th></th>\n",
       "      <th>url_len</th>\n",
       "      <th>js_len</th>\n",
       "      <th>js_obf_len</th>\n",
       "      <th>who_is</th>\n",
       "      <th>https</th>\n",
       "      <th>label</th>\n",
       "      <th>Afghanistan</th>\n",
       "      <th>Albania</th>\n",
       "      <th>Algeria</th>\n",
       "      <th>Andorra</th>\n",
       "      <th>...</th>\n",
       "      <th>warrington.sch.uk</th>\n",
       "      <th>washingtondc.museum</th>\n",
       "      <th>waw.pl</th>\n",
       "      <th>web.id</th>\n",
       "      <th>wroc.pl</th>\n",
       "      <th>ws</th>\n",
       "      <th>wv.us</th>\n",
       "      <th>wy.us</th>\n",
       "      <th>yk.ca</th>\n",
       "      <th>za.net</th>\n",
       "    </tr>\n",
       "  </thead>\n",
       "  <tbody>\n",
       "    <tr>\n",
       "      <th>count</th>\n",
       "      <td>7.487300e+04</td>\n",
       "      <td>7.487300e+04</td>\n",
       "      <td>7.487300e+04</td>\n",
       "      <td>74873.000000</td>\n",
       "      <td>74873.000000</td>\n",
       "      <td>74873.000000</td>\n",
       "      <td>74873.000000</td>\n",
       "      <td>74873.000000</td>\n",
       "      <td>74873.000000</td>\n",
       "      <td>74873.000000</td>\n",
       "      <td>...</td>\n",
       "      <td>74873.000000</td>\n",
       "      <td>74873.000000</td>\n",
       "      <td>74873.000000</td>\n",
       "      <td>74873.000000</td>\n",
       "      <td>74873.000000</td>\n",
       "      <td>74873.000000</td>\n",
       "      <td>74873.000000</td>\n",
       "      <td>74873.000000</td>\n",
       "      <td>74873.000000</td>\n",
       "      <td>74873.00000</td>\n",
       "    </tr>\n",
       "    <tr>\n",
       "      <th>mean</th>\n",
       "      <td>8.389136e-17</td>\n",
       "      <td>-1.336188e-16</td>\n",
       "      <td>6.529101e-17</td>\n",
       "      <td>0.532008</td>\n",
       "      <td>0.532729</td>\n",
       "      <td>0.471665</td>\n",
       "      <td>0.000120</td>\n",
       "      <td>0.000134</td>\n",
       "      <td>0.001269</td>\n",
       "      <td>0.000027</td>\n",
       "      <td>...</td>\n",
       "      <td>0.000013</td>\n",
       "      <td>0.000013</td>\n",
       "      <td>0.000053</td>\n",
       "      <td>0.000013</td>\n",
       "      <td>0.000013</td>\n",
       "      <td>0.001095</td>\n",
       "      <td>0.000013</td>\n",
       "      <td>0.000013</td>\n",
       "      <td>0.000013</td>\n",
       "      <td>0.00004</td>\n",
       "    </tr>\n",
       "    <tr>\n",
       "      <th>std</th>\n",
       "      <td>1.000000e+00</td>\n",
       "      <td>1.000000e+00</td>\n",
       "      <td>1.000000e+00</td>\n",
       "      <td>0.498978</td>\n",
       "      <td>0.498931</td>\n",
       "      <td>0.499200</td>\n",
       "      <td>0.010963</td>\n",
       "      <td>0.011556</td>\n",
       "      <td>0.035598</td>\n",
       "      <td>0.005168</td>\n",
       "      <td>...</td>\n",
       "      <td>0.003655</td>\n",
       "      <td>0.003655</td>\n",
       "      <td>0.007309</td>\n",
       "      <td>0.003655</td>\n",
       "      <td>0.003655</td>\n",
       "      <td>0.033076</td>\n",
       "      <td>0.003655</td>\n",
       "      <td>0.003655</td>\n",
       "      <td>0.003655</td>\n",
       "      <td>0.00633</td>\n",
       "    </tr>\n",
       "    <tr>\n",
       "      <th>min</th>\n",
       "      <td>-1.736276e+00</td>\n",
       "      <td>-1.210457e+00</td>\n",
       "      <td>-7.767391e-01</td>\n",
       "      <td>0.000000</td>\n",
       "      <td>0.000000</td>\n",
       "      <td>0.000000</td>\n",
       "      <td>0.000000</td>\n",
       "      <td>0.000000</td>\n",
       "      <td>0.000000</td>\n",
       "      <td>0.000000</td>\n",
       "      <td>...</td>\n",
       "      <td>0.000000</td>\n",
       "      <td>0.000000</td>\n",
       "      <td>0.000000</td>\n",
       "      <td>0.000000</td>\n",
       "      <td>0.000000</td>\n",
       "      <td>0.000000</td>\n",
       "      <td>0.000000</td>\n",
       "      <td>0.000000</td>\n",
       "      <td>0.000000</td>\n",
       "      <td>0.00000</td>\n",
       "    </tr>\n",
       "    <tr>\n",
       "      <th>25%</th>\n",
       "      <td>-7.646719e-01</td>\n",
       "      <td>-8.418324e-01</td>\n",
       "      <td>-7.767391e-01</td>\n",
       "      <td>0.000000</td>\n",
       "      <td>0.000000</td>\n",
       "      <td>0.000000</td>\n",
       "      <td>0.000000</td>\n",
       "      <td>0.000000</td>\n",
       "      <td>0.000000</td>\n",
       "      <td>0.000000</td>\n",
       "      <td>...</td>\n",
       "      <td>0.000000</td>\n",
       "      <td>0.000000</td>\n",
       "      <td>0.000000</td>\n",
       "      <td>0.000000</td>\n",
       "      <td>0.000000</td>\n",
       "      <td>0.000000</td>\n",
       "      <td>0.000000</td>\n",
       "      <td>0.000000</td>\n",
       "      <td>0.000000</td>\n",
       "      <td>0.00000</td>\n",
       "    </tr>\n",
       "    <tr>\n",
       "      <th>50%</th>\n",
       "      <td>-3.162391e-01</td>\n",
       "      <td>-5.204676e-01</td>\n",
       "      <td>-7.767391e-01</td>\n",
       "      <td>1.000000</td>\n",
       "      <td>1.000000</td>\n",
       "      <td>0.000000</td>\n",
       "      <td>0.000000</td>\n",
       "      <td>0.000000</td>\n",
       "      <td>0.000000</td>\n",
       "      <td>0.000000</td>\n",
       "      <td>...</td>\n",
       "      <td>0.000000</td>\n",
       "      <td>0.000000</td>\n",
       "      <td>0.000000</td>\n",
       "      <td>0.000000</td>\n",
       "      <td>0.000000</td>\n",
       "      <td>0.000000</td>\n",
       "      <td>0.000000</td>\n",
       "      <td>0.000000</td>\n",
       "      <td>0.000000</td>\n",
       "      <td>0.00000</td>\n",
       "    </tr>\n",
       "    <tr>\n",
       "      <th>75%</th>\n",
       "      <td>5.806264e-01</td>\n",
       "      <td>8.821953e-01</td>\n",
       "      <td>8.285177e-01</td>\n",
       "      <td>1.000000</td>\n",
       "      <td>1.000000</td>\n",
       "      <td>1.000000</td>\n",
       "      <td>0.000000</td>\n",
       "      <td>0.000000</td>\n",
       "      <td>0.000000</td>\n",
       "      <td>0.000000</td>\n",
       "      <td>...</td>\n",
       "      <td>0.000000</td>\n",
       "      <td>0.000000</td>\n",
       "      <td>0.000000</td>\n",
       "      <td>0.000000</td>\n",
       "      <td>0.000000</td>\n",
       "      <td>0.000000</td>\n",
       "      <td>0.000000</td>\n",
       "      <td>0.000000</td>\n",
       "      <td>0.000000</td>\n",
       "      <td>0.00000</td>\n",
       "    </tr>\n",
       "    <tr>\n",
       "      <th>max</th>\n",
       "      <td>2.838346e+01</td>\n",
       "      <td>2.018693e+00</td>\n",
       "      <td>2.896714e+00</td>\n",
       "      <td>1.000000</td>\n",
       "      <td>1.000000</td>\n",
       "      <td>1.000000</td>\n",
       "      <td>1.000000</td>\n",
       "      <td>1.000000</td>\n",
       "      <td>1.000000</td>\n",
       "      <td>1.000000</td>\n",
       "      <td>...</td>\n",
       "      <td>1.000000</td>\n",
       "      <td>1.000000</td>\n",
       "      <td>1.000000</td>\n",
       "      <td>1.000000</td>\n",
       "      <td>1.000000</td>\n",
       "      <td>1.000000</td>\n",
       "      <td>1.000000</td>\n",
       "      <td>1.000000</td>\n",
       "      <td>1.000000</td>\n",
       "      <td>1.00000</td>\n",
       "    </tr>\n",
       "  </tbody>\n",
       "</table>\n",
       "<p>8 rows × 578 columns</p>\n",
       "</div>"
      ],
      "text/plain": [
       "            url_len        js_len    js_obf_len        who_is         https  \\\n",
       "count  7.487300e+04  7.487300e+04  7.487300e+04  74873.000000  74873.000000   \n",
       "mean   8.389136e-17 -1.336188e-16  6.529101e-17      0.532008      0.532729   \n",
       "std    1.000000e+00  1.000000e+00  1.000000e+00      0.498978      0.498931   \n",
       "min   -1.736276e+00 -1.210457e+00 -7.767391e-01      0.000000      0.000000   \n",
       "25%   -7.646719e-01 -8.418324e-01 -7.767391e-01      0.000000      0.000000   \n",
       "50%   -3.162391e-01 -5.204676e-01 -7.767391e-01      1.000000      1.000000   \n",
       "75%    5.806264e-01  8.821953e-01  8.285177e-01      1.000000      1.000000   \n",
       "max    2.838346e+01  2.018693e+00  2.896714e+00      1.000000      1.000000   \n",
       "\n",
       "              label   Afghanistan       Albania       Algeria       Andorra  \\\n",
       "count  74873.000000  74873.000000  74873.000000  74873.000000  74873.000000   \n",
       "mean       0.471665      0.000120      0.000134      0.001269      0.000027   \n",
       "std        0.499200      0.010963      0.011556      0.035598      0.005168   \n",
       "min        0.000000      0.000000      0.000000      0.000000      0.000000   \n",
       "25%        0.000000      0.000000      0.000000      0.000000      0.000000   \n",
       "50%        0.000000      0.000000      0.000000      0.000000      0.000000   \n",
       "75%        1.000000      0.000000      0.000000      0.000000      0.000000   \n",
       "max        1.000000      1.000000      1.000000      1.000000      1.000000   \n",
       "\n",
       "       ...  warrington.sch.uk  washingtondc.museum        waw.pl  \\\n",
       "count  ...       74873.000000         74873.000000  74873.000000   \n",
       "mean   ...           0.000013             0.000013      0.000053   \n",
       "std    ...           0.003655             0.003655      0.007309   \n",
       "min    ...           0.000000             0.000000      0.000000   \n",
       "25%    ...           0.000000             0.000000      0.000000   \n",
       "50%    ...           0.000000             0.000000      0.000000   \n",
       "75%    ...           0.000000             0.000000      0.000000   \n",
       "max    ...           1.000000             1.000000      1.000000   \n",
       "\n",
       "             web.id       wroc.pl            ws         wv.us         wy.us  \\\n",
       "count  74873.000000  74873.000000  74873.000000  74873.000000  74873.000000   \n",
       "mean       0.000013      0.000013      0.001095      0.000013      0.000013   \n",
       "std        0.003655      0.003655      0.033076      0.003655      0.003655   \n",
       "min        0.000000      0.000000      0.000000      0.000000      0.000000   \n",
       "25%        0.000000      0.000000      0.000000      0.000000      0.000000   \n",
       "50%        0.000000      0.000000      0.000000      0.000000      0.000000   \n",
       "75%        0.000000      0.000000      0.000000      0.000000      0.000000   \n",
       "max        1.000000      1.000000      1.000000      1.000000      1.000000   \n",
       "\n",
       "              yk.ca       za.net  \n",
       "count  74873.000000  74873.00000  \n",
       "mean       0.000013      0.00004  \n",
       "std        0.003655      0.00633  \n",
       "min        0.000000      0.00000  \n",
       "25%        0.000000      0.00000  \n",
       "50%        0.000000      0.00000  \n",
       "75%        0.000000      0.00000  \n",
       "max        1.000000      1.00000  \n",
       "\n",
       "[8 rows x 578 columns]"
      ]
     },
     "execution_count": 58,
     "metadata": {},
     "output_type": "execute_result"
    }
   ],
   "source": [
    "data_res.describe()"
   ]
  },
  {
   "cell_type": "markdown",
   "metadata": {},
   "source": [
    "## X и Y"
   ]
  },
  {
   "cell_type": "code",
   "execution_count": 59,
   "metadata": {},
   "outputs": [],
   "source": [
    "x = np.array(data_res.drop('label', axis = 1)) # выбрасываем столбец 'label'\n",
    "y = np.array(data_res['label'])"
   ]
  },
  {
   "cell_type": "code",
   "execution_count": 60,
   "metadata": {},
   "outputs": [
    {
     "name": "stdout",
     "output_type": "stream",
     "text": [
      "(74873, 577)\n",
      "(74873,)\n"
     ]
    }
   ],
   "source": [
    "print(x.shape)\n",
    "print(y.shape)\n",
    "r, c = x.shape"
   ]
  },
  {
   "cell_type": "code",
   "execution_count": 61,
   "metadata": {},
   "outputs": [
    {
     "name": "stdout",
     "output_type": "stream",
     "text": [
      "56154 18719\n"
     ]
    }
   ],
   "source": [
    "from sklearn.model_selection import train_test_split\n",
    "x_train, x_test, y_train, y_test = train_test_split(x, y, test_size = 0.25, random_state = 42)\n",
    "\n",
    "N_train, _ = x_train.shape \n",
    "N_test,  _ = x_test.shape \n",
    "\n",
    "print(N_train, N_test)"
   ]
  },
  {
   "cell_type": "markdown",
   "metadata": {},
   "source": [
    "## kNN (1)"
   ]
  },
  {
   "cell_type": "code",
   "execution_count": 62,
   "metadata": {},
   "outputs": [],
   "source": [
    "from sklearn.neighbors import KNeighborsClassifier\n",
    "from sklearn.metrics import confusion_matrix"
   ]
  },
  {
   "cell_type": "code",
   "execution_count": 63,
   "metadata": {},
   "outputs": [
    {
     "data": {
      "text/plain": [
       "KNeighborsClassifier(n_neighbors=1)"
      ]
     },
     "execution_count": 63,
     "metadata": {},
     "output_type": "execute_result"
    }
   ],
   "source": [
    "knn = KNeighborsClassifier(n_neighbors = 1)\n",
    "knn.fit(x_train, y_train)"
   ]
  },
  {
   "cell_type": "code",
   "execution_count": 65,
   "metadata": {},
   "outputs": [
    {
     "name": "stdout",
     "output_type": "stream",
     "text": [
      "Точность тренировочной: 0.9979698685757026\n",
      "Точность тестовой: 0.9845077194294567\n",
      "Сonfusion matrix: [[9834  127]\n",
      " [ 163 8595]]\n"
     ]
    }
   ],
   "source": [
    "y_test_predict = knn.predict(x_test)\n",
    "\n",
    "acc_train_1 = 1 - np.mean(y_train  != knn.predict(x_train))\n",
    "acc_test_1 = 1 - np.mean(y_test  != y_test_predict)\n",
    "\n",
    "print(\"Точность тренировочной:\", acc_train_1)\n",
    "print(\"Точность тестовой:\", acc_test_1)\n",
    "print(\"Сonfusion matrix:\", confusion_matrix(y_test, y_test_predict))"
   ]
  },
  {
   "cell_type": "markdown",
   "metadata": {},
   "source": [
    "# kNN (3)"
   ]
  },
  {
   "cell_type": "code",
   "execution_count": 66,
   "metadata": {},
   "outputs": [
    {
     "data": {
      "text/plain": [
       "KNeighborsClassifier(n_neighbors=3)"
      ]
     },
     "execution_count": 66,
     "metadata": {},
     "output_type": "execute_result"
    }
   ],
   "source": [
    "knn = KNeighborsClassifier(n_neighbors = 3)\n",
    "knn.fit(x_train, y_train)"
   ]
  },
  {
   "cell_type": "code",
   "execution_count": 67,
   "metadata": {},
   "outputs": [
    {
     "name": "stdout",
     "output_type": "stream",
     "text": [
      "Точность тренировочной: 0.9907753677387185\n",
      "Точность тестовой: 0.9857364175436722\n",
      "Сonfusion matrix:\n",
      " [[9868   93]\n",
      " [ 174 8584]]\n"
     ]
    }
   ],
   "source": [
    "y_test_predict = knn.predict(x_test)\n",
    "\n",
    "acc_train_3 = 1 - np.mean(y_train  != knn.predict(x_train))\n",
    "acc_test_3 = 1 - np.mean(y_test  != y_test_predict)\n",
    "\n",
    "print(\"Точность тренировочной:\", acc_train_3)\n",
    "print(\"Точность тестовой:\", acc_test_3)\n",
    "print(\"Сonfusion matrix:\\n\", confusion_matrix(y_test, y_test_predict))"
   ]
  },
  {
   "cell_type": "markdown",
   "metadata": {},
   "source": [
    "## kNN (6)"
   ]
  },
  {
   "cell_type": "code",
   "execution_count": 68,
   "metadata": {},
   "outputs": [
    {
     "data": {
      "text/plain": [
       "KNeighborsClassifier(n_neighbors=6)"
      ]
     },
     "execution_count": 68,
     "metadata": {},
     "output_type": "execute_result"
    }
   ],
   "source": [
    "knn = KNeighborsClassifier(n_neighbors = 6)\n",
    "knn.fit(x_train, y_train)"
   ]
  },
  {
   "cell_type": "code",
   "execution_count": 69,
   "metadata": {},
   "outputs": [
    {
     "name": "stdout",
     "output_type": "stream",
     "text": [
      "Точность тренировочной: 0.986447982334295\n",
      "Точность тестовой: 0.9854158876008334\n",
      "Сonfusion matrix:\n",
      " [[9907   54]\n",
      " [ 219 8539]]\n"
     ]
    }
   ],
   "source": [
    "y_test_predict = knn.predict(x_test)\n",
    "\n",
    "acc_train_6 = 1 - np.mean(y_train  != knn.predict(x_train))\n",
    "acc_test_6 = 1 - np.mean(y_test  != y_test_predict)\n",
    "\n",
    "print(\"Точность тренировочной:\", acc_train_6)\n",
    "print(\"Точность тестовой:\", acc_test_6)\n",
    "print(\"Сonfusion matrix:\\n\", confusion_matrix(y_test, y_test_predict))"
   ]
  },
  {
   "cell_type": "markdown",
   "metadata": {},
   "source": [
    "# kNN (8)"
   ]
  },
  {
   "cell_type": "code",
   "execution_count": 70,
   "metadata": {},
   "outputs": [
    {
     "data": {
      "text/plain": [
       "KNeighborsClassifier(n_neighbors=8)"
      ]
     },
     "execution_count": 70,
     "metadata": {},
     "output_type": "execute_result"
    }
   ],
   "source": [
    "knn = KNeighborsClassifier(n_neighbors = 8)\n",
    "knn.fit(x_train, y_train)"
   ]
  },
  {
   "cell_type": "code",
   "execution_count": 71,
   "metadata": {},
   "outputs": [
    {
     "name": "stdout",
     "output_type": "stream",
     "text": [
      "Точность тренировочной: 0.9850589450439862\n",
      "Точность тестовой: 0.9846145627437363\n",
      "Сonfusion matrix:\n",
      " [[9895   66]\n",
      " [ 222 8536]]\n"
     ]
    }
   ],
   "source": [
    "y_test_predict = knn.predict(x_test)\n",
    "\n",
    "acc_train_8 = 1 - np.mean(y_train  != knn.predict(x_train))\n",
    "acc_test_8 = 1 - np.mean(y_test  != y_test_predict)\n",
    "\n",
    "print(\"Точность тренировочной:\", acc_train_8)\n",
    "print(\"Точность тестовой:\", acc_test_8)\n",
    "print(\"Сonfusion matrix:\\n\", confusion_matrix(y_test, y_test_predict))"
   ]
  },
  {
   "cell_type": "markdown",
   "metadata": {},
   "source": [
    "# kNN (10)"
   ]
  },
  {
   "cell_type": "code",
   "execution_count": 72,
   "metadata": {},
   "outputs": [
    {
     "data": {
      "text/plain": [
       "KNeighborsClassifier(n_neighbors=10)"
      ]
     },
     "execution_count": 72,
     "metadata": {},
     "output_type": "execute_result"
    }
   ],
   "source": [
    "knn = KNeighborsClassifier(n_neighbors = 10)\n",
    "knn.fit(x_train, y_train)"
   ]
  },
  {
   "cell_type": "code",
   "execution_count": 73,
   "metadata": {},
   "outputs": [
    {
     "name": "stdout",
     "output_type": "stream",
     "text": [
      "Точность тренировочной: 0.9841507283541688\n",
      "Точность тестовой: 0.9837598162294995\n",
      "Сonfusion matrix:\n",
      " [[9887   74]\n",
      " [ 230 8528]]\n"
     ]
    }
   ],
   "source": [
    "y_test_predict = knn.predict(x_test)\n",
    "\n",
    "acc_train_10 = 1 - np.mean(y_train  != knn.predict(x_train))\n",
    "acc_test_10 = 1 - np.mean(y_test  != y_test_predict)\n",
    "\n",
    "print(\"Точность тренировочной:\", acc_train_10)\n",
    "print(\"Точность тестовой:\", acc_test_10)\n",
    "print(\"Сonfusion matrix:\\n\", confusion_matrix(y_test, y_test_predict))"
   ]
  },
  {
   "cell_type": "markdown",
   "metadata": {},
   "source": [
    "## kNN (14)"
   ]
  },
  {
   "cell_type": "code",
   "execution_count": 77,
   "metadata": {},
   "outputs": [
    {
     "data": {
      "text/plain": [
       "KNeighborsClassifier(n_neighbors=14)"
      ]
     },
     "execution_count": 77,
     "metadata": {},
     "output_type": "execute_result"
    }
   ],
   "source": [
    "knn = KNeighborsClassifier(n_neighbors = 14)\n",
    "knn.fit(x_train, y_train)"
   ]
  },
  {
   "cell_type": "code",
   "execution_count": 78,
   "metadata": {},
   "outputs": [
    {
     "name": "stdout",
     "output_type": "stream",
     "text": [
      "Точность тренировочной: 0.9834918260497917\n",
      "Точность тестовой: 0.983332442972381\n",
      "Сonfusion matrix:\n",
      " [[9891   70]\n",
      " [ 242 8516]]\n"
     ]
    }
   ],
   "source": [
    "y_test_predict = knn.predict(x_test)\n",
    "\n",
    "acc_train_14 = 1 - np.mean(y_train  != knn.predict(x_train))\n",
    "acc_test_14 = 1 - np.mean(y_test  != y_test_predict)\n",
    "\n",
    "print(\"Точность тренировочной:\", acc_train_14)\n",
    "print(\"Точность тестовой:\", acc_test_14)\n",
    "print(\"Сonfusion matrix:\\n\", confusion_matrix(y_test, y_test_predict))"
   ]
  },
  {
   "cell_type": "code",
   "execution_count": 80,
   "metadata": {},
   "outputs": [
    {
     "name": "stdout",
     "output_type": "stream",
     "text": [
      "Максимальная точность на тренировочной выборке: 0.9979698685757026 при 1 соседях\n",
      "Максимальная точность на тестовой выборке: 0.9857364175436722 при 3 соседях\n"
     ]
    }
   ],
   "source": [
    "acc_train = {acc_train_1:1, acc_train_3:3, acc_train_6:6, acc_train_8:8, acc_train_10:10, acc_train_14:14}\n",
    "acc_test = {acc_test_1:1, acc_test_3:3, acc_test_6:6, acc_test_8:8, acc_test_10:10, acc_test_14:14}\n",
    "print(\"Максимальная точность на тренировочной выборке:\", max(acc_train.keys()), \"при\", acc_train[max(acc_train.keys())], \"соседях\")\n",
    "print(\"Максимальная точность на тестовой выборке:\", max(acc_test.keys()), \"при\", acc_test[max(acc_test.keys())], \"соседях\")"
   ]
  },
  {
   "cell_type": "markdown",
   "metadata": {},
   "source": [
    "## SVC"
   ]
  },
  {
   "cell_type": "code",
   "execution_count": 81,
   "metadata": {},
   "outputs": [
    {
     "data": {
      "text/plain": [
       "SVC(gamma='auto')"
      ]
     },
     "execution_count": 81,
     "metadata": {},
     "output_type": "execute_result"
    }
   ],
   "source": [
    "from sklearn.svm import SVC\n",
    "svc = SVC(gamma='auto')\n",
    "svc.fit(x_train, y_train)"
   ]
  },
  {
   "cell_type": "code",
   "execution_count": 85,
   "metadata": {},
   "outputs": [
    {
     "name": "stdout",
     "output_type": "stream",
     "text": [
      "Точность тренировочной: 0.9598069594329879\n",
      "Точность тестовой: 0.9619103584593194\n",
      "Сonfusion matrix:\n",
      " [[9757  204]\n",
      " [ 509 8249]]\n"
     ]
    }
   ],
   "source": [
    "y_test_predict = svc.predict(x_test)\n",
    "\n",
    "acc_svc_train = 1 - np.mean(y_train != svc.predict(x_train))\n",
    "acc_svc_test  = 1 - np.mean(y_test  != y_test_predict)\n",
    "\n",
    "print(\"Точность тренировочной:\", acc_svc_train)\n",
    "print(\"Точность тестовой:\", acc_svc_test)\n",
    "print(\"Сonfusion matrix:\\n\", confusion_matrix(y_test, y_test_predict))"
   ]
  },
  {
   "cell_type": "markdown",
   "metadata": {},
   "source": [
    "## RF"
   ]
  },
  {
   "cell_type": "code",
   "execution_count": 75,
   "metadata": {},
   "outputs": [
    {
     "data": {
      "text/plain": [
       "RandomForestClassifier()"
      ]
     },
     "execution_count": 75,
     "metadata": {},
     "output_type": "execute_result"
    }
   ],
   "source": [
    "from sklearn import ensemble\n",
    "forest = ensemble.RandomForestClassifier()\n",
    "forest.fit(x_train, y_train)"
   ]
  },
  {
   "cell_type": "code",
   "execution_count": 76,
   "metadata": {},
   "outputs": [
    {
     "name": "stdout",
     "output_type": "stream",
     "text": [
      "Точность тренировочной: 0.9983972646650283\n",
      "Точность тестовой: 0.9938030877717827\n",
      "Сonfusion matrix:\n",
      " [[9911   50]\n",
      " [  66 8692]]\n"
     ]
    }
   ],
   "source": [
    "y_test_predict = forest.predict(x_test)\n",
    "\n",
    "acc_forest_train = 1 - np.mean(y_train  != forest.predict(x_train))\n",
    "acc_forest_test = 1 - np.mean(y_test  != y_test_predict)\n",
    "\n",
    "print(\"Точность тренировочной:\", acc_forest_train)\n",
    "print(\"Точность тестовой:\", acc_forest_test)\n",
    "print(\"Сonfusion matrix:\\n\", confusion_matrix(y_test, y_test_predict))"
   ]
  },
  {
   "cell_type": "markdown",
   "metadata": {},
   "source": [
    "**Вывод:**"
   ]
  },
  {
   "cell_type": "markdown",
   "metadata": {},
   "source": [
    "**kNN** дал следущие результаты:  \n",
    "  \n",
    "**1 сосед:**  \n",
    "Точность тренировочной: 0.9979698685757026  \n",
    "Точность тестовой: 0.9845077194294567  \n",
    "  \n",
    "**3 соседа:**  \n",
    "Точность тренировочной: 0.9907753677387185  \n",
    "Точность тестовой: 0.9857364175436722  \n",
    "  \n",
    "**6 соседей:**  \n",
    "Точность тренировочной: 0.986447982334295  \n",
    "Точность тестовой: 0.9854158876008334  \n",
    "  \n",
    "**8 соседей:**  \n",
    "Точность тренировочной: 0.9850589450439862  \n",
    "Точность тестовой: 0.9846145627437363  \n",
    "  \n",
    "**10 соседей:**  \n",
    "Точность тренировочной: 0.9841507283541688  \n",
    "Точность тестовой: 0.9837598162294995  \n",
    "  \n",
    "**14 соседей:**  \n",
    "Точность тренировочной: 0.9834918260497917  \n",
    "Точность тестовой: 0.983332442972381  \n",
    "  \n",
    "**Наилучший результат:**  \n",
    "Максимальная точность на тренировочной выборке: 0.9979698685757026 при 1 соседе  \n",
    "Максимальная точность на тестовой выборке: 0.9857364175436722 при 3 соседях  \n",
    "  \n",
    "  \n",
    "  \n",
    "**SVC** дал следующие результаты:  \n",
    "Точность тренировочной: 0.9598069594329879  \n",
    "Точность тестовой: 0.9619103584593194  \n",
    "  \n",
    "  \n",
    "**RF** дал следующие результаты:  \n",
    "Точность тренировочной: 0.9983972646650283  \n",
    "Точность тестовой: 0.9938030877717827  "
   ]
  },
  {
   "cell_type": "code",
   "execution_count": null,
   "metadata": {},
   "outputs": [],
   "source": []
  }
 ],
 "metadata": {
  "kernelspec": {
   "display_name": "Python 3",
   "language": "python",
   "name": "python3"
  },
  "language_info": {
   "codemirror_mode": {
    "name": "ipython",
    "version": 3
   },
   "file_extension": ".py",
   "mimetype": "text/x-python",
   "name": "python",
   "nbconvert_exporter": "python",
   "pygments_lexer": "ipython3",
   "version": "3.8.5"
  }
 },
 "nbformat": 4,
 "nbformat_minor": 4
}
